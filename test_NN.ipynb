{
 "cells": [
  {
   "cell_type": "code",
   "execution_count": 8,
   "id": "a077c81b",
   "metadata": {},
   "outputs": [],
   "source": [
    "import pandas as pd\n",
    "import numpy as np\n",
    "\n",
    "seed_value = 1789\n",
    "\n",
    "np.random.seed(seed_value)\n",
    "tf.random.set_seed(seed_value)\n",
    "tf.keras.utils.set_random_seed(seed_value)\n",
    "\n",
    "data    = pd.read_csv(\"./preproc/04b_encoded_bike.csv\", header = None).to_numpy()\n",
    "\n",
    "bd_data = pd.read_csv(\"./preproc/04b_encoded_bike_bidimensional.csv\", header = None).to_numpy()\n",
    "\n",
    "read = 11\n",
    "pred = 12 - read\n",
    "\n",
    "assert pred > 0\n",
    "\n",
    "X = np.concatenate((bd_data[:,:read], bd_data[:,12:12+read]), axis = 1)\n",
    "Y = np.concatenate((bd_data[:,read: 12], bd_data[:,12+read:24]), axis = 1)"
   ]
  },
  {
   "cell_type": "code",
   "execution_count": 9,
   "id": "c7f10584",
   "metadata": {},
   "outputs": [
    {
     "data": {
      "text/plain": [
       "array([[ 5.43859649,  5.43859649,  5.43859649,  5.0877193 ,  4.73684211,\n",
       "         4.73684211,  4.38596491,  4.03508772,  4.03508772,  3.68421053,\n",
       "         3.33333333, -4.        , -4.5       , -4.        , -4.        ,\n",
       "        -4.        , -3.5       , -3.5       , -3.5       , -3.        ,\n",
       "        -3.        , -3.        ],\n",
       "       [ 5.0877193 ,  4.73684211,  4.73684211,  4.38596491,  4.03508772,\n",
       "         4.03508772,  3.68421053,  3.33333333,  2.98245614,  2.63157895,\n",
       "         2.63157895, -4.        , -4.        , -3.5       , -3.5       ,\n",
       "        -3.5       , -3.        , -3.        , -3.        , -3.        ,\n",
       "        -3.        , -2.5       ],\n",
       "       [ 4.38596491,  4.03508772,  4.03508772,  3.68421053,  3.33333333,\n",
       "         2.98245614,  2.63157895,  2.63157895,  2.28070175,  2.28070175,\n",
       "         1.92982456, -3.5       , -3.5       , -3.        , -3.        ,\n",
       "        -3.        , -3.        , -3.        , -2.5       , -2.5       ,\n",
       "        -2.        , -2.        ],\n",
       "       [ 3.68421053,  3.33333333,  2.98245614,  2.63157895,  2.63157895,\n",
       "         2.28070175,  2.28070175,  1.92982456,  1.92982456,  1.57894737,\n",
       "         1.22807018, -3.        , -3.        , -3.        , -3.        ,\n",
       "        -2.5       , -2.5       , -2.        , -2.        , -1.5       ,\n",
       "        -1.        , -1.        ],\n",
       "       [ 2.63157895,  2.63157895,  2.28070175,  2.28070175,  1.92982456,\n",
       "         1.92982456,  1.57894737,  1.22807018,  0.87719298,  0.52631579,\n",
       "         0.1754386 , -3.        , -2.5       , -2.5       , -2.        ,\n",
       "        -2.        , -1.5       , -1.        , -1.        , -1.        ,\n",
       "        -1.        , -1.        ],\n",
       "       [ 0.87719298,  0.52631579,  0.1754386 , -0.1754386 , -0.52631579,\n",
       "        -0.87719298, -1.22807018, -1.57894737, -1.92982456, -2.28070175,\n",
       "        -2.63157895,  0.        ,  0.        ,  0.        ,  0.        ,\n",
       "         0.        , -0.5       , -0.5       , -0.5       , -0.5       ,\n",
       "        -0.5       , -0.5       ],\n",
       "       [-0.1754386 , -0.52631579, -0.87719298, -1.22807018, -1.57894737,\n",
       "        -1.92982456, -2.28070175, -2.63157895, -2.98245614, -3.33333333,\n",
       "        -3.33333333,  0.        ,  0.        , -0.5       , -0.5       ,\n",
       "        -0.5       , -0.5       , -0.5       , -0.5       , -0.5       ,\n",
       "        -0.5       , -1.        ],\n",
       "       [-1.22807018, -1.57894737, -1.92982456, -2.28070175, -2.63157895,\n",
       "        -2.98245614, -3.33333333, -3.33333333, -3.68421053, -4.03508772,\n",
       "        -4.03508772, -0.5       , -0.5       , -0.5       , -0.5       ,\n",
       "        -0.5       , -0.5       , -0.5       , -1.        , -1.        ,\n",
       "        -1.        , -1.5       ],\n",
       "       [-2.28070175, -2.63157895, -2.98245614, -3.33333333, -3.33333333,\n",
       "        -3.68421053, -4.03508772, -4.03508772, -4.38596491, -4.73684211,\n",
       "        -4.73684211, -0.5       , -0.5       , -0.5       , -0.5       ,\n",
       "        -1.        , -1.        , -1.        , -1.5       , -1.5       ,\n",
       "        -1.5       , -2.        ],\n",
       "       [ 0.1754386 ,  0.52631579,  0.87719298,  1.22807018,  1.57894737,\n",
       "         1.57894737,  1.57894737,  1.57894737,  1.57894737,  1.22807018,\n",
       "         0.87719298,  0.        ,  0.        ,  0.        ,  0.        ,\n",
       "         0.5       ,  1.        ,  1.5       ,  2.        ,  2.5       ,\n",
       "         2.5       ,  2.5       ]])"
      ]
     },
     "execution_count": 9,
     "metadata": {},
     "output_type": "execute_result"
    }
   ],
   "source": [
    "X[:10]"
   ]
  },
  {
   "cell_type": "code",
   "execution_count": 10,
   "id": "e5e8ecca",
   "metadata": {},
   "outputs": [],
   "source": [
    "from tensorflow import keras\n",
    "from tensorflow.keras import layers\n",
    "import tensorflow as tf\n",
    "\n",
    "model = keras.Sequential()\n",
    "model.add(layers.Dense(256, kernel_initializer='glorot_normal', input_shape=(2*read,),activation='relu'))\n",
    "model.add(layers.Dense(128, kernel_initializer='glorot_normal', activation='relu'))\n",
    "#model.add(layers.Dense(64, kernel_initializer='glorot_normal', activation='relu'))\n",
    "#model.add(layers.Dense(32, kernel_initializer='glorot_normal',activation='relu'))\n",
    "#model.add(layers.Dense(16, kernel_initializer='glorot_normal',activation='relu'))\n",
    "model.add(layers.Dense(2*pred))#, activation='sigmoid')\n",
    "\n",
    "loss_function = 'mae'\n",
    "adam = tf.keras.optimizers.Adam(learning_rate=0.001)\n",
    "model.compile(loss=loss_function, optimizer=adam,metrics=['mse'])"
   ]
  },
  {
   "cell_type": "code",
   "execution_count": 11,
   "id": "a6eb0004",
   "metadata": {},
   "outputs": [
    {
     "name": "stdout",
     "output_type": "stream",
     "text": [
      "Model: \"sequential_1\"\n",
      "_________________________________________________________________\n",
      " Layer (type)                Output Shape              Param #   \n",
      "=================================================================\n",
      " dense_3 (Dense)             (None, 256)               5888      \n",
      "                                                                 \n",
      " dense_4 (Dense)             (None, 128)               32896     \n",
      "                                                                 \n",
      " dense_5 (Dense)             (None, 2)                 258       \n",
      "                                                                 \n",
      "=================================================================\n",
      "Total params: 39,042\n",
      "Trainable params: 39,042\n",
      "Non-trainable params: 0\n",
      "_________________________________________________________________\n"
     ]
    }
   ],
   "source": [
    "model.summary()"
   ]
  },
  {
   "cell_type": "code",
   "execution_count": 12,
   "id": "a830be58",
   "metadata": {},
   "outputs": [],
   "source": [
    "from sklearn.model_selection import train_test_split\n",
    "\n",
    "X_train, X_test, Y_train, Y_test = train_test_split(X, Y, train_size=.70)"
   ]
  },
  {
   "cell_type": "code",
   "execution_count": 13,
   "id": "8e3def89",
   "metadata": {},
   "outputs": [
    {
     "name": "stdout",
     "output_type": "stream",
     "text": [
      "Epoch 1/100\n",
      "359/359 [==============================] - 1s 2ms/step - loss: 0.3073 - mse: 0.2549 - val_loss: 0.2497 - val_mse: 0.0985\n",
      "Epoch 2/100\n",
      "359/359 [==============================] - 1s 2ms/step - loss: 0.2253 - mse: 0.0832 - val_loss: 0.2428 - val_mse: 0.0939\n",
      "Epoch 3/100\n",
      "359/359 [==============================] - 1s 2ms/step - loss: 0.2214 - mse: 0.0807 - val_loss: 0.2164 - val_mse: 0.0764\n",
      "Epoch 4/100\n",
      "359/359 [==============================] - 1s 2ms/step - loss: 0.2166 - mse: 0.0779 - val_loss: 0.2150 - val_mse: 0.0755\n",
      "Epoch 5/100\n",
      "359/359 [==============================] - 1s 2ms/step - loss: 0.2130 - mse: 0.0759 - val_loss: 0.2128 - val_mse: 0.0735\n",
      "Epoch 6/100\n",
      "359/359 [==============================] - 1s 2ms/step - loss: 0.2113 - mse: 0.0744 - val_loss: 0.2124 - val_mse: 0.0752\n",
      "Epoch 7/100\n",
      "359/359 [==============================] - 1s 2ms/step - loss: 0.2116 - mse: 0.0748 - val_loss: 0.2293 - val_mse: 0.0875\n",
      "Epoch 8/100\n",
      "359/359 [==============================] - 1s 2ms/step - loss: 0.2089 - mse: 0.0730 - val_loss: 0.2244 - val_mse: 0.0856\n",
      "Epoch 9/100\n",
      "359/359 [==============================] - 1s 2ms/step - loss: 0.2104 - mse: 0.0747 - val_loss: 0.2101 - val_mse: 0.0742\n",
      "Epoch 10/100\n",
      "359/359 [==============================] - 1s 2ms/step - loss: 0.2083 - mse: 0.0729 - val_loss: 0.2302 - val_mse: 0.0879\n",
      "Epoch 11/100\n",
      "359/359 [==============================] - 1s 2ms/step - loss: 0.2084 - mse: 0.0733 - val_loss: 0.2120 - val_mse: 0.0734\n",
      "Epoch 12/100\n",
      "359/359 [==============================] - 1s 2ms/step - loss: 0.2054 - mse: 0.0712 - val_loss: 0.2190 - val_mse: 0.0790\n",
      "Epoch 13/100\n",
      "359/359 [==============================] - 1s 2ms/step - loss: 0.2059 - mse: 0.0720 - val_loss: 0.2067 - val_mse: 0.0723\n",
      "Epoch 14/100\n",
      "359/359 [==============================] - 1s 2ms/step - loss: 0.2052 - mse: 0.0715 - val_loss: 0.2059 - val_mse: 0.0717\n",
      "Epoch 15/100\n",
      "359/359 [==============================] - 1s 2ms/step - loss: 0.2034 - mse: 0.0706 - val_loss: 0.2069 - val_mse: 0.0733\n",
      "Epoch 16/100\n",
      "359/359 [==============================] - 1s 2ms/step - loss: 0.2032 - mse: 0.0705 - val_loss: 0.2004 - val_mse: 0.0678\n",
      "Epoch 17/100\n",
      "359/359 [==============================] - 1s 2ms/step - loss: 0.2026 - mse: 0.0703 - val_loss: 0.2071 - val_mse: 0.0734\n",
      "Epoch 18/100\n",
      "359/359 [==============================] - 1s 2ms/step - loss: 0.2018 - mse: 0.0699 - val_loss: 0.1960 - val_mse: 0.0668\n",
      "Epoch 19/100\n",
      "359/359 [==============================] - 1s 2ms/step - loss: 0.2014 - mse: 0.0697 - val_loss: 0.2061 - val_mse: 0.0721\n",
      "Epoch 20/100\n",
      "359/359 [==============================] - 1s 2ms/step - loss: 0.2009 - mse: 0.0695 - val_loss: 0.2010 - val_mse: 0.0689\n",
      "Epoch 21/100\n",
      "359/359 [==============================] - 1s 2ms/step - loss: 0.1985 - mse: 0.0680 - val_loss: 0.2048 - val_mse: 0.0702\n",
      "Epoch 22/100\n",
      "359/359 [==============================] - 1s 2ms/step - loss: 0.1984 - mse: 0.0683 - val_loss: 0.2040 - val_mse: 0.0694\n",
      "Epoch 23/100\n",
      "359/359 [==============================] - 1s 2ms/step - loss: 0.1984 - mse: 0.0684 - val_loss: 0.1988 - val_mse: 0.0666\n",
      "Epoch 24/100\n",
      "359/359 [==============================] - 1s 2ms/step - loss: 0.1979 - mse: 0.0680 - val_loss: 0.2065 - val_mse: 0.0717\n",
      "Epoch 25/100\n",
      "359/359 [==============================] - 1s 2ms/step - loss: 0.1968 - mse: 0.0677 - val_loss: 0.1965 - val_mse: 0.0669\n",
      "Epoch 26/100\n",
      "359/359 [==============================] - 1s 2ms/step - loss: 0.1971 - mse: 0.0677 - val_loss: 0.2006 - val_mse: 0.0685\n",
      "Epoch 27/100\n",
      "359/359 [==============================] - 1s 2ms/step - loss: 0.1963 - mse: 0.0674 - val_loss: 0.2065 - val_mse: 0.0722\n",
      "Epoch 28/100\n",
      "359/359 [==============================] - 1s 2ms/step - loss: 0.1955 - mse: 0.0669 - val_loss: 0.1977 - val_mse: 0.0675\n",
      "Epoch 29/100\n",
      "359/359 [==============================] - 1s 2ms/step - loss: 0.1961 - mse: 0.0674 - val_loss: 0.2055 - val_mse: 0.0727\n",
      "Epoch 30/100\n",
      "359/359 [==============================] - 1s 2ms/step - loss: 0.1939 - mse: 0.0661 - val_loss: 0.1958 - val_mse: 0.0663\n",
      "Epoch 31/100\n",
      "359/359 [==============================] - 1s 2ms/step - loss: 0.1940 - mse: 0.0666 - val_loss: 0.1965 - val_mse: 0.0684\n",
      "Epoch 32/100\n",
      "359/359 [==============================] - 1s 2ms/step - loss: 0.1945 - mse: 0.0666 - val_loss: 0.2028 - val_mse: 0.0713\n",
      "Epoch 33/100\n",
      "359/359 [==============================] - 1s 2ms/step - loss: 0.1919 - mse: 0.0652 - val_loss: 0.1940 - val_mse: 0.0654\n",
      "Epoch 34/100\n",
      "359/359 [==============================] - 1s 2ms/step - loss: 0.1912 - mse: 0.0649 - val_loss: 0.1965 - val_mse: 0.0677\n",
      "Epoch 35/100\n",
      "359/359 [==============================] - 1s 2ms/step - loss: 0.1918 - mse: 0.0653 - val_loss: 0.1970 - val_mse: 0.0665\n",
      "Epoch 36/100\n",
      "359/359 [==============================] - 1s 2ms/step - loss: 0.1906 - mse: 0.0650 - val_loss: 0.1917 - val_mse: 0.0655\n",
      "Epoch 37/100\n",
      "359/359 [==============================] - 1s 2ms/step - loss: 0.1894 - mse: 0.0641 - val_loss: 0.1958 - val_mse: 0.0675\n",
      "Epoch 38/100\n",
      "359/359 [==============================] - 1s 2ms/step - loss: 0.1908 - mse: 0.0649 - val_loss: 0.2019 - val_mse: 0.0727\n",
      "Epoch 39/100\n",
      "359/359 [==============================] - 1s 2ms/step - loss: 0.1895 - mse: 0.0644 - val_loss: 0.2005 - val_mse: 0.0682\n",
      "Epoch 40/100\n",
      "359/359 [==============================] - 1s 2ms/step - loss: 0.1892 - mse: 0.0642 - val_loss: 0.2025 - val_mse: 0.0740\n",
      "Epoch 41/100\n",
      "359/359 [==============================] - 1s 2ms/step - loss: 0.1886 - mse: 0.0640 - val_loss: 0.1925 - val_mse: 0.0663\n",
      "Epoch 42/100\n",
      "359/359 [==============================] - 1s 2ms/step - loss: 0.1888 - mse: 0.0641 - val_loss: 0.1897 - val_mse: 0.0649\n",
      "Epoch 43/100\n",
      "359/359 [==============================] - 1s 2ms/step - loss: 0.1871 - mse: 0.0633 - val_loss: 0.1985 - val_mse: 0.0693\n",
      "Epoch 44/100\n",
      "359/359 [==============================] - 1s 2ms/step - loss: 0.1890 - mse: 0.0641 - val_loss: 0.1997 - val_mse: 0.0705\n",
      "Epoch 45/100\n",
      "359/359 [==============================] - 1s 2ms/step - loss: 0.1867 - mse: 0.0632 - val_loss: 0.1982 - val_mse: 0.0682\n",
      "Epoch 46/100\n",
      "359/359 [==============================] - 1s 2ms/step - loss: 0.1881 - mse: 0.0639 - val_loss: 0.1933 - val_mse: 0.0654\n",
      "Epoch 47/100\n",
      "359/359 [==============================] - 1s 2ms/step - loss: 0.1866 - mse: 0.0634 - val_loss: 0.1881 - val_mse: 0.0633\n",
      "Epoch 48/100\n",
      "359/359 [==============================] - 1s 2ms/step - loss: 0.1856 - mse: 0.0629 - val_loss: 0.1990 - val_mse: 0.0703\n",
      "Epoch 49/100\n",
      "359/359 [==============================] - 1s 2ms/step - loss: 0.1863 - mse: 0.0632 - val_loss: 0.1890 - val_mse: 0.0649\n",
      "Epoch 50/100\n",
      "359/359 [==============================] - 1s 2ms/step - loss: 0.1848 - mse: 0.0624 - val_loss: 0.1941 - val_mse: 0.0690\n",
      "Epoch 51/100\n",
      "359/359 [==============================] - 1s 2ms/step - loss: 0.1845 - mse: 0.0624 - val_loss: 0.1953 - val_mse: 0.0677\n",
      "Epoch 52/100\n",
      "359/359 [==============================] - 1s 2ms/step - loss: 0.1845 - mse: 0.0625 - val_loss: 0.1896 - val_mse: 0.0640\n",
      "Epoch 53/100\n",
      "359/359 [==============================] - 1s 2ms/step - loss: 0.1850 - mse: 0.0626 - val_loss: 0.1875 - val_mse: 0.0640\n",
      "Epoch 54/100\n",
      "359/359 [==============================] - 1s 2ms/step - loss: 0.1828 - mse: 0.0615 - val_loss: 0.1895 - val_mse: 0.0656\n",
      "Epoch 55/100\n",
      "359/359 [==============================] - 1s 2ms/step - loss: 0.1827 - mse: 0.0616 - val_loss: 0.1892 - val_mse: 0.0660\n",
      "Epoch 56/100\n",
      "359/359 [==============================] - 1s 2ms/step - loss: 0.1829 - mse: 0.0618 - val_loss: 0.1902 - val_mse: 0.0643\n",
      "Epoch 57/100\n",
      "359/359 [==============================] - 1s 2ms/step - loss: 0.1831 - mse: 0.0618 - val_loss: 0.1883 - val_mse: 0.0646\n",
      "Epoch 58/100\n",
      "359/359 [==============================] - 1s 2ms/step - loss: 0.1828 - mse: 0.0615 - val_loss: 0.1999 - val_mse: 0.0699\n",
      "Epoch 59/100\n",
      "359/359 [==============================] - 1s 2ms/step - loss: 0.1821 - mse: 0.0614 - val_loss: 0.1915 - val_mse: 0.0662\n",
      "Epoch 60/100\n",
      "359/359 [==============================] - 1s 2ms/step - loss: 0.1810 - mse: 0.0608 - val_loss: 0.1901 - val_mse: 0.0648\n",
      "Epoch 61/100\n",
      "359/359 [==============================] - 1s 2ms/step - loss: 0.1833 - mse: 0.0617 - val_loss: 0.1925 - val_mse: 0.0669\n",
      "Epoch 62/100\n"
     ]
    },
    {
     "name": "stdout",
     "output_type": "stream",
     "text": [
      "359/359 [==============================] - 1s 2ms/step - loss: 0.1798 - mse: 0.0604 - val_loss: 0.1951 - val_mse: 0.0664\n",
      "Epoch 63/100\n",
      "359/359 [==============================] - 1s 2ms/step - loss: 0.1812 - mse: 0.0610 - val_loss: 0.1939 - val_mse: 0.0680\n",
      "Epoch 64/100\n",
      "359/359 [==============================] - 1s 2ms/step - loss: 0.1804 - mse: 0.0606 - val_loss: 0.1846 - val_mse: 0.0633\n",
      "Epoch 65/100\n",
      "359/359 [==============================] - 1s 2ms/step - loss: 0.1816 - mse: 0.0614 - val_loss: 0.1931 - val_mse: 0.0686\n",
      "Epoch 66/100\n",
      "359/359 [==============================] - 1s 2ms/step - loss: 0.1797 - mse: 0.0602 - val_loss: 0.1886 - val_mse: 0.0649\n",
      "Epoch 67/100\n",
      "359/359 [==============================] - 1s 2ms/step - loss: 0.1791 - mse: 0.0602 - val_loss: 0.1936 - val_mse: 0.0678\n",
      "Epoch 68/100\n",
      "359/359 [==============================] - 1s 2ms/step - loss: 0.1788 - mse: 0.0600 - val_loss: 0.1860 - val_mse: 0.0631\n",
      "Epoch 69/100\n",
      "359/359 [==============================] - 1s 2ms/step - loss: 0.1794 - mse: 0.0602 - val_loss: 0.1935 - val_mse: 0.0676\n",
      "Epoch 70/100\n",
      "359/359 [==============================] - 1s 2ms/step - loss: 0.1795 - mse: 0.0602 - val_loss: 0.1981 - val_mse: 0.0706\n",
      "Epoch 71/100\n",
      "359/359 [==============================] - 1s 2ms/step - loss: 0.1778 - mse: 0.0594 - val_loss: 0.1854 - val_mse: 0.0635\n",
      "Epoch 72/100\n",
      "359/359 [==============================] - 1s 2ms/step - loss: 0.1780 - mse: 0.0597 - val_loss: 0.1848 - val_mse: 0.0634\n",
      "Epoch 73/100\n",
      "359/359 [==============================] - 1s 2ms/step - loss: 0.1775 - mse: 0.0595 - val_loss: 0.1886 - val_mse: 0.0643\n",
      "Epoch 74/100\n",
      "359/359 [==============================] - 1s 2ms/step - loss: 0.1780 - mse: 0.0597 - val_loss: 0.1876 - val_mse: 0.0637\n",
      "Epoch 75/100\n",
      "359/359 [==============================] - 1s 2ms/step - loss: 0.1768 - mse: 0.0592 - val_loss: 0.1867 - val_mse: 0.0638\n",
      "Epoch 76/100\n",
      "359/359 [==============================] - 1s 2ms/step - loss: 0.1771 - mse: 0.0593 - val_loss: 0.1847 - val_mse: 0.0639\n",
      "Epoch 77/100\n",
      "359/359 [==============================] - 1s 2ms/step - loss: 0.1773 - mse: 0.0594 - val_loss: 0.1827 - val_mse: 0.0617\n",
      "Epoch 78/100\n",
      "359/359 [==============================] - 1s 2ms/step - loss: 0.1768 - mse: 0.0593 - val_loss: 0.1840 - val_mse: 0.0631\n",
      "Epoch 79/100\n",
      "359/359 [==============================] - 1s 2ms/step - loss: 0.1757 - mse: 0.0587 - val_loss: 0.1838 - val_mse: 0.0632\n",
      "Epoch 80/100\n",
      "359/359 [==============================] - 1s 2ms/step - loss: 0.1767 - mse: 0.0592 - val_loss: 0.1865 - val_mse: 0.0644\n",
      "Epoch 81/100\n",
      "359/359 [==============================] - 1s 2ms/step - loss: 0.1769 - mse: 0.0594 - val_loss: 0.1850 - val_mse: 0.0639\n",
      "Epoch 82/100\n",
      "359/359 [==============================] - 1s 2ms/step - loss: 0.1758 - mse: 0.0586 - val_loss: 0.1872 - val_mse: 0.0646\n",
      "Epoch 83/100\n",
      "359/359 [==============================] - 1s 2ms/step - loss: 0.1763 - mse: 0.0588 - val_loss: 0.1864 - val_mse: 0.0638\n",
      "Epoch 84/100\n",
      "359/359 [==============================] - 1s 2ms/step - loss: 0.1757 - mse: 0.0588 - val_loss: 0.1849 - val_mse: 0.0631\n",
      "Epoch 85/100\n",
      "359/359 [==============================] - 1s 2ms/step - loss: 0.1764 - mse: 0.0592 - val_loss: 0.1880 - val_mse: 0.0638\n",
      "Epoch 86/100\n",
      "359/359 [==============================] - 1s 2ms/step - loss: 0.1746 - mse: 0.0583 - val_loss: 0.1862 - val_mse: 0.0640\n",
      "Epoch 87/100\n",
      "359/359 [==============================] - 1s 2ms/step - loss: 0.1759 - mse: 0.0588 - val_loss: 0.1855 - val_mse: 0.0639\n",
      "Epoch 88/100\n",
      "359/359 [==============================] - 1s 2ms/step - loss: 0.1747 - mse: 0.0584 - val_loss: 0.1827 - val_mse: 0.0627\n",
      "Epoch 89/100\n",
      "359/359 [==============================] - 1s 2ms/step - loss: 0.1740 - mse: 0.0579 - val_loss: 0.1830 - val_mse: 0.0630\n",
      "Epoch 90/100\n",
      "359/359 [==============================] - 1s 2ms/step - loss: 0.1737 - mse: 0.0579 - val_loss: 0.1822 - val_mse: 0.0616\n",
      "Epoch 91/100\n",
      "359/359 [==============================] - 1s 2ms/step - loss: 0.1734 - mse: 0.0576 - val_loss: 0.1826 - val_mse: 0.0628\n",
      "Epoch 92/100\n",
      "359/359 [==============================] - 1s 2ms/step - loss: 0.1729 - mse: 0.0575 - val_loss: 0.1796 - val_mse: 0.0607\n",
      "Epoch 93/100\n",
      "359/359 [==============================] - 1s 2ms/step - loss: 0.1730 - mse: 0.0575 - val_loss: 0.1852 - val_mse: 0.0639\n",
      "Epoch 94/100\n",
      "359/359 [==============================] - 1s 2ms/step - loss: 0.1730 - mse: 0.0576 - val_loss: 0.1857 - val_mse: 0.0641\n",
      "Epoch 95/100\n",
      "359/359 [==============================] - 1s 2ms/step - loss: 0.1726 - mse: 0.0573 - val_loss: 0.1862 - val_mse: 0.0644\n",
      "Epoch 96/100\n",
      "359/359 [==============================] - 1s 2ms/step - loss: 0.1729 - mse: 0.0577 - val_loss: 0.1838 - val_mse: 0.0628\n",
      "Epoch 97/100\n",
      "359/359 [==============================] - 1s 2ms/step - loss: 0.1735 - mse: 0.0577 - val_loss: 0.1820 - val_mse: 0.0625\n",
      "Epoch 98/100\n",
      "359/359 [==============================] - 1s 2ms/step - loss: 0.1715 - mse: 0.0569 - val_loss: 0.1878 - val_mse: 0.0654\n",
      "Epoch 99/100\n",
      "359/359 [==============================] - 1s 2ms/step - loss: 0.1727 - mse: 0.0575 - val_loss: 0.1881 - val_mse: 0.0655\n",
      "Epoch 100/100\n",
      "359/359 [==============================] - 1s 2ms/step - loss: 0.1712 - mse: 0.0567 - val_loss: 0.1832 - val_mse: 0.0622\n"
     ]
    }
   ],
   "source": [
    "history = model.fit(X_train, Y_train, epochs= 100,batch_size=100, validation_data=(X_test, Y_test))"
   ]
  },
  {
   "cell_type": "code",
   "execution_count": 14,
   "id": "21e02310",
   "metadata": {},
   "outputs": [
    {
     "data": {
      "image/png": "[encoded data removed]",
      "text/plain": [
       "<Figure size 1200x800 with 1 Axes>"
      ]
     },
     "metadata": {},
     "output_type": "display_data"
    }
   ],
   "source": [
    "import matplotlib.pyplot as plt\n",
    "\n",
    "f, a = plt.subplots(figsize=(12,8))\n",
    "\n",
    "a.plot(history.history['loss'], label = \"Training Loss\")\n",
    "a.plot(history.history['val_loss'], label = \"Validation Loss\")\n",
    "plt.legend()\n",
    "plt.grid(True)"
   ]
  },
  {
   "cell_type": "code",
   "execution_count": 15,
   "id": "555238e4",
   "metadata": {},
   "outputs": [
    {
     "name": "stdout",
     "output_type": "stream",
     "text": [
      "480/480 [==============================] - 0s 651us/step\n"
     ]
    }
   ],
   "source": [
    "p_xy = model.predict(X_test)\n"
   ]
  },
  {
   "cell_type": "code",
   "execution_count": 16,
   "id": "14bf9cf0",
   "metadata": {},
   "outputs": [
    {
     "data": {
      "text/plain": [
       "array([[2.63157895, 1.        ]])"
      ]
     },
     "execution_count": 16,
     "metadata": {},
     "output_type": "execute_result"
    }
   ],
   "source": [
    "t_xy = Y_test\n",
    "t_xy[0].reshape(2,-1).T"
   ]
  },
  {
   "cell_type": "code",
   "execution_count": 17,
   "id": "3a8915c8",
   "metadata": {},
   "outputs": [
    {
     "data": {
      "text/plain": [
       "array([[36., 18.],\n",
       "       [45., 16.],\n",
       "       [27., 24.],\n",
       "       ...,\n",
       "       [32., 22.],\n",
       "       [44., 16.],\n",
       "       [41., 16.]])"
      ]
     },
     "execution_count": 17,
     "metadata": {},
     "output_type": "execute_result"
    }
   ],
   "source": [
    "def to_ij(arr):\n",
    "    prepared = arr.reshape(2,-1).T /10\n",
    "    res = np.array([])\n",
    "    for it in prepared:\n",
    "        res = np.append(res, np.round([57/2*(1+it[0]), -20*(it[1]-1) ]))\n",
    "    return res\n",
    "p_ijs = np.array([to_ij(p) for p in p_xy])\n",
    "p_ijs\n",
    "\n",
    "#recoded_X_test = np.array([to_ij(arr) for arr in X_test])\n",
    "#recoded_X_test"
   ]
  },
  {
   "cell_type": "code",
   "execution_count": 18,
   "id": "bbea38f8",
   "metadata": {},
   "outputs": [
    {
     "data": {
      "text/plain": [
       "array([[36., 18.],\n",
       "       [45., 16.],\n",
       "       [27., 23.],\n",
       "       ...,\n",
       "       [32., 23.],\n",
       "       [45., 16.],\n",
       "       [39., 16.]])"
      ]
     },
     "execution_count": 18,
     "metadata": {},
     "output_type": "execute_result"
    }
   ],
   "source": [
    "t_ijs = np.array([to_ij(t) for t in t_xy])\n",
    "t_ijs"
   ]
  },
  {
   "cell_type": "code",
   "execution_count": 19,
   "id": "c63aea4f",
   "metadata": {},
   "outputs": [
    {
     "data": {
      "text/plain": [
       "(array([0.47202501, 0.47202501]), 0.6447925486875529)"
      ]
     },
     "execution_count": 19,
     "metadata": {},
     "output_type": "execute_result"
    }
   ],
   "source": [
    "def eval_acc(p, t, size = pred):\n",
    "    l_p = p.shape[0]\n",
    "    l_t = t.shape[0]\n",
    "    assert l_p == l_t, \"Test and prediction size do not match!\"\n",
    "    all_correct   = 0.\n",
    "    first_correct = 0.\n",
    "    for r_p, r_t in zip(p,t):\n",
    "        #print(r_p, r_t)\n",
    "        if (r_p == r_t).all():\n",
    "            all_correct += 1\n",
    "        if (r_p[:2] == r_t[:2]).all():\n",
    "            first_correct +=1\n",
    "    return np.array([all_correct, first_correct])/l_p\n",
    "\n",
    "eval_acc(p_ijs, t_ijs), sum(sum(p_ijs == t_ijs))/p_ijs.size"
   ]
  },
  {
   "cell_type": "code",
   "execution_count": null,
   "id": "e8348734",
   "metadata": {},
   "outputs": [],
   "source": []
  }
 ],
 "metadata": {
  "kernelspec": {
   "display_name": "Python 3 (ipykernel)",
   "language": "python",
   "name": "python3"
  },
  "language_info": {
   "codemirror_mode": {
    "name": "ipython",
    "version": 3
   },
   "file_extension": ".py",
   "mimetype": "text/x-python",
   "name": "python",
   "nbconvert_exporter": "python",
   "pygments_lexer": "ipython3",
   "version": "3.8.13"
  }
 },
 "nbformat": 4,
 "nbformat_minor": 5
}
