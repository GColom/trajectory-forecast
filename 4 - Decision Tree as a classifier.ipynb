{
 "cells": [
  {
   "cell_type": "markdown",
   "id": "d4bdd0ac",
   "metadata": {},
   "source": [
    "# Bicycle trajectory forecasting in Bologna\n",
    "\n",
    "## 4 - Decision Tree classifier\n",
    "\n",
    "Lastly we try a simple architecture, to see how it performs with respect to more complicated Neural devices.\n",
    "\n",
    "Having already framed the problem as a classification, for example, we can approach it with a decision tree."
   ]
  },
  {
   "cell_type": "code",
   "execution_count": 20,
   "id": "6484a926",
   "metadata": {},
   "outputs": [],
   "source": [
    "import pandas as pd\n",
    "import numpy as np\n",
    "\n",
    "data            = pd.read_csv(\"../../preproc/may_jump_encoded_bike.csv\", header = None).to_numpy()\n",
    "indep_test_data = pd.read_csv(\"../../preproc/june_jump_encoded_bike.csv\", header = None).to_numpy()\n",
    "\n",
    "read = 5\n",
    "\n",
    "X = np.concatenate([data[:,11-read:11], data[:,-1-read:-1]], axis = 1)\n",
    "Y = data[:,-1:]\n",
    "\n",
    "X_it = np.concatenate([indep_test_data[:,11-read:11], indep_test_data[:,-1-read:-1]], axis = 1)\n",
    "Y_it = indep_test_data[:,-1:]"
   ]
  },
  {
   "cell_type": "markdown",
   "id": "3b19d0e0",
   "metadata": {},
   "source": [
    "We perform the usual dataset splitting for the model training, and for this first part we fix the maximal depth to 30 branching layers. "
   ]
  },
  {
   "cell_type": "code",
   "execution_count": 21,
   "id": "458d5f8f",
   "metadata": {},
   "outputs": [
    {
     "data": {
      "text/plain": [
       "30"
      ]
     },
     "execution_count": 21,
     "metadata": {},
     "output_type": "execute_result"
    }
   ],
   "source": [
    "from sklearn import tree\n",
    "\n",
    "seed_value = 1789\n",
    "\n",
    "np.random.seed(seed_value)\n",
    "\n",
    "from sklearn.model_selection import train_test_split\n",
    "\n",
    "X_train, X_val, Y_train, Y_val = train_test_split(X, Y, train_size=.70)\n",
    "\n",
    "dt = tree.DecisionTreeClassifier(max_depth=30)\n",
    "dt.fit(X_train,Y_train)\n",
    "dt.get_depth()"
   ]
  },
  {
   "cell_type": "code",
   "execution_count": 22,
   "id": "312fd5d0",
   "metadata": {},
   "outputs": [],
   "source": [
    "pred_val = dt.predict(X_val)\n",
    "\n",
    "test_val = Y_val.flatten()"
   ]
  },
  {
   "cell_type": "markdown",
   "id": "dab487d4",
   "metadata": {},
   "source": [
    "Looking at the accuracy on the validation set we observe a value of $\\approx 72 \\%$, which is actually slightly higher than what we obtained with the DNNs."
   ]
  },
  {
   "cell_type": "code",
   "execution_count": 24,
   "id": "4e090975",
   "metadata": {},
   "outputs": [
    {
     "data": {
      "text/plain": [
       "0.7229259415721574"
      ]
     },
     "execution_count": 24,
     "metadata": {},
     "output_type": "execute_result"
    }
   ],
   "source": [
    "def get_accuracy(tst, prd):\n",
    "    if len(tst.shape) == 2:\n",
    "        test = tst.flatten()\n",
    "    elif len(tst.shape) == 1:\n",
    "        test = tst\n",
    "    if len(prd.shape) == 2:\n",
    "        pred = prd.flatten()\n",
    "    elif len(prd.shape) == 1:\n",
    "        pred = prd\n",
    "    return np.sum(pred == test) / test.size\n",
    "\n",
    "get_accuracy(test_val, pred_val)"
   ]
  },
  {
   "cell_type": "markdown",
   "id": "df7ba926",
   "metadata": {},
   "source": [
    "As done previously, we now shift our attention to an independent test set (June trajectories)."
   ]
  },
  {
   "cell_type": "code",
   "execution_count": 25,
   "id": "fa4c7043",
   "metadata": {},
   "outputs": [
    {
     "data": {
      "text/plain": [
       "0.7145130273925357"
      ]
     },
     "execution_count": 25,
     "metadata": {},
     "output_type": "execute_result"
    }
   ],
   "source": [
    "pred_it = dt.predict(X_it)\n",
    "\n",
    "test_it = Y_it.flatten()\n",
    "\n",
    "get_accuracy(test_it, pred_it)"
   ]
  },
  {
   "cell_type": "markdown",
   "id": "4f20c0ce",
   "metadata": {},
   "source": [
    "And obtain a slightly inferior accuracy, but still better than the one obtained with the DNNs.\n",
    "\n",
    "To measure the impact of the number of tree levels on the accuracy, we run a test, varying the `max_depth` parameter and looking at the accuracy on the independent test set."
   ]
  },
  {
   "cell_type": "code",
   "execution_count": 28,
   "id": "7b38c228",
   "metadata": {},
   "outputs": [
    {
     "name": "stderr",
     "output_type": "stream",
     "text": [
      "9it [00:07,  1.18it/s]\n"
     ]
    }
   ],
   "source": [
    "from tqdm import tqdm\n",
    "depths = np.arange(5, 50, 5)\n",
    "actual_depths = np.empty(shape = depths.shape)\n",
    "acc = np.empty(shape = depths.shape)\n",
    "\n",
    "for i, d in tqdm(enumerate(depths)):\n",
    "    dt = tree.DecisionTreeClassifier(max_depth=d)\n",
    "    dt.fit(X_train,Y_train)\n",
    "    pred_it = dt.predict(X_it)\n",
    "    acc[i] = get_accuracy(Y_it, pred_it)\n",
    "    actual_depths[i] = dt.get_depth()"
   ]
  },
  {
   "cell_type": "code",
   "execution_count": 29,
   "id": "83273c0a",
   "metadata": {},
   "outputs": [
    {
     "data": {
      "text/plain": [
       "Text(0, 0.5, 'Actual depth')"
      ]
     },
     "execution_count": 29,
     "metadata": {},
     "output_type": "execute_result"
    },
    {
     "data": {
      "image/png": "[encoded data removed]",
      "text/plain": [
       "<Figure size 864x432 with 2 Axes>"
      ]
     },
     "metadata": {
      "needs_background": "light"
     },
     "output_type": "display_data"
    }
   ],
   "source": [
    "from matplotlib import pyplot as plt\n",
    "\n",
    "f, a = plt.subplots(ncols = 2, figsize = (12,6))\n",
    "\n",
    "a[0].scatter(depths, acc)\n",
    "a[0].grid(True)\n",
    "a[0].set_ylim( top = 1)\n",
    "a[0].set_xlabel(\"Maximum depth\", fontsize = 14)\n",
    "a[0].set_ylabel(\"Accuracy on independent test set\", fontsize = 14)\n",
    "\n",
    "a[1].scatter(depths, actual_depths)\n",
    "a[1].grid(True)\n",
    "a[1].set_xlabel(\"Maximum depth\", fontsize = 14)\n",
    "a[1].set_ylabel(\"Actual depth\", fontsize = 14)"
   ]
  },
  {
   "cell_type": "markdown",
   "id": "b2adee37",
   "metadata": {},
   "source": [
    "Where we see that after a rapidly growing trend, for `max_depth`$\\approx 25 $ we enter a plateau, wherein albeit adding more and more levels to the tree, we do not gain much accuracy.\n",
    "\n",
    "Looking explicitly at the numbers"
   ]
  },
  {
   "cell_type": "code",
   "execution_count": 31,
   "id": "a697f981",
   "metadata": {},
   "outputs": [
    {
     "data": {
      "text/plain": [
       "array([0.39197924, 0.53707033, 0.65084446, 0.70146996, 0.71361423,\n",
       "       0.71466196, 0.71478215, 0.71465412, 0.71463322])"
      ]
     },
     "execution_count": 31,
     "metadata": {},
     "output_type": "execute_result"
    }
   ],
   "source": [
    "acc"
   ]
  },
  {
   "cell_type": "markdown",
   "id": "d25133a9",
   "metadata": {},
   "source": [
    "We can see that the DT overtakes the DNNs at roughly 25-30 levels of depth."
   ]
  }
 ],
 "metadata": {
  "kernelspec": {
   "display_name": "Python 3 (ipykernel)",
   "language": "python",
   "name": "python3"
  },
  "language_info": {
   "codemirror_mode": {
    "name": "ipython",
    "version": 3
   },
   "file_extension": ".py",
   "mimetype": "text/x-python",
   "name": "python",
   "nbconvert_exporter": "python",
   "pygments_lexer": "ipython3",
   "version": "3.8.12"
  }
 },
 "nbformat": 4,
 "nbformat_minor": 5
}
