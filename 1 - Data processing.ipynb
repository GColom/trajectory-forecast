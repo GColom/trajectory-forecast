{
 "cells": [
  {
   "cell_type": "markdown",
   "id": "bf203083",
   "metadata": {},
   "source": [
    "# Bicycle trajectory forecasting in Bologna\n",
    "\n",
    "## 1 - Data processing\n",
    "\n",
    "In this Notebook we take a look at our database, which contains some anonymised tracks of pedestrians and cyclists moving across the city of Bologna during the spring and summer of 2017.\n",
    "\n",
    "The data were previously processed, and we obtain them as sequences of integers, representing 200 m * 200 m squares\n",
    "in a 40 * 57 rectangular grid spanning from (lat, lon) to (lat, lon), over Bologna.\n",
    "The sequences represent a sampling performed every 10 s. \n",
    "\n",
    "In this sense, if an integer is repeated N times within a sequence, we understand that the correspondent cyclist's trajectory has fallen within the associated square for a time of N * 10 s.\n",
    "\n",
    "We are interested in the prevision of the geometry of the trajectory, so we want to extrapolate, given a portion of it, a forecast for the next grid cell visited.\n",
    "\n",
    "This notebook has been used to explore the data and cast it in useful forms for the training of machine learning algorithms.\n",
    "\n",
    "First, let us import some useful modules and set some paths to the data."
   ]
  },
  {
   "cell_type": "code",
   "execution_count": 2,
   "id": "5631d02e",
   "metadata": {},
   "outputs": [],
   "source": [
    "import pandas as pd\n",
    "from matplotlib import pyplot as plt\n",
    "import os\n",
    "import numpy as np"
   ]
  },
  {
   "cell_type": "code",
   "execution_count": 3,
   "id": "37af4f4a",
   "metadata": {},
   "outputs": [],
   "source": [
    "datafolder = \"/home/giulio/DATI/encoded_200_data/\"\n",
    "files = os.listdir(datafolder)\n",
    "files.sort()"
   ]
  },
  {
   "cell_type": "code",
   "execution_count": 4,
   "id": "3f8212f9",
   "metadata": {},
   "outputs": [
    {
     "name": "stdout",
     "output_type": "stream",
     "text": [
      "04a_encoded_200.csv\n",
      "04b_encoded_200.csv\n",
      "05a_encoded_200.csv\n",
      "05b_encoded_200.csv\n",
      "06a_encoded_200.csv\n",
      "06b_encoded_200.csv\n",
      "07a_encoded_200.csv\n",
      "07b_encoded_200.csv\n",
      "08a_encoded_200.csv\n",
      "08b_encoded_200.csv\n",
      "09a_encoded_200.csv\n",
      "09b_encoded_200.csv\n"
     ]
    }
   ],
   "source": [
    "for f in files:\n",
    "    print(f)"
   ]
  },
  {
   "cell_type": "markdown",
   "id": "eb54d081",
   "metadata": {},
   "source": [
    "The data is broken down into roughly bi-weekly files. With the available computing power it has been possible\n",
    "to process only a single month at a time, as an example in the following we will consider the month of May (files ```05a_encoded_200.csv``` and ```05b_encoded_200.csv```), but changing the slicing indices in the initialisation of ```aggregate_files```  allows the processing and aggregation of any combination of the bi-weekly files."
   ]
  },
  {
   "cell_type": "code",
   "execution_count": 5,
   "id": "d1aa8f76",
   "metadata": {
    "scrolled": false
   },
   "outputs": [
    {
     "name": "stdout",
     "output_type": "stream",
     "text": [
      "['05a_encoded_200.csv', '05b_encoded_200.csv']\n"
     ]
    },
    {
     "data": {
      "text/html": [
       "<div>\n",
       "<style scoped>\n",
       "    .dataframe tbody tr th:only-of-type {\n",
       "        vertical-align: middle;\n",
       "    }\n",
       "\n",
       "    .dataframe tbody tr th {\n",
       "        vertical-align: top;\n",
       "    }\n",
       "\n",
       "    .dataframe thead th {\n",
       "        text-align: right;\n",
       "    }\n",
       "</style>\n",
       "<table border=\"1\" class=\"dataframe\">\n",
       "  <thead>\n",
       "    <tr style=\"text-align: right;\">\n",
       "      <th></th>\n",
       "      <th>Activity</th>\n",
       "      <th>Type</th>\n",
       "      <th>Timestamp</th>\n",
       "      <th>Coding</th>\n",
       "    </tr>\n",
       "  </thead>\n",
       "  <tbody>\n",
       "    <tr>\n",
       "      <th>0</th>\n",
       "      <td>1564059</td>\n",
       "      <td>0</td>\n",
       "      <td>1.493590e+09</td>\n",
       "      <td>1233</td>\n",
       "    </tr>\n",
       "    <tr>\n",
       "      <th>1</th>\n",
       "      <td>1564059</td>\n",
       "      <td>0</td>\n",
       "      <td>1.493590e+09</td>\n",
       "      <td>1233</td>\n",
       "    </tr>\n",
       "    <tr>\n",
       "      <th>2</th>\n",
       "      <td>1564059</td>\n",
       "      <td>0</td>\n",
       "      <td>1.493590e+09</td>\n",
       "      <td>1233</td>\n",
       "    </tr>\n",
       "    <tr>\n",
       "      <th>3</th>\n",
       "      <td>1564059</td>\n",
       "      <td>0</td>\n",
       "      <td>1.493590e+09</td>\n",
       "      <td>1233</td>\n",
       "    </tr>\n",
       "    <tr>\n",
       "      <th>4</th>\n",
       "      <td>1564059</td>\n",
       "      <td>0</td>\n",
       "      <td>1.493590e+09</td>\n",
       "      <td>1233</td>\n",
       "    </tr>\n",
       "    <tr>\n",
       "      <th>...</th>\n",
       "      <td>...</td>\n",
       "      <td>...</td>\n",
       "      <td>...</td>\n",
       "      <td>...</td>\n",
       "    </tr>\n",
       "    <tr>\n",
       "      <th>34229982</th>\n",
       "      <td>2116927</td>\n",
       "      <td>0</td>\n",
       "      <td>1.496631e+09</td>\n",
       "      <td>636</td>\n",
       "    </tr>\n",
       "    <tr>\n",
       "      <th>34229983</th>\n",
       "      <td>2116927</td>\n",
       "      <td>0</td>\n",
       "      <td>1.496631e+09</td>\n",
       "      <td>636</td>\n",
       "    </tr>\n",
       "    <tr>\n",
       "      <th>34229984</th>\n",
       "      <td>2116927</td>\n",
       "      <td>0</td>\n",
       "      <td>1.496631e+09</td>\n",
       "      <td>636</td>\n",
       "    </tr>\n",
       "    <tr>\n",
       "      <th>34229985</th>\n",
       "      <td>2116927</td>\n",
       "      <td>0</td>\n",
       "      <td>1.496631e+09</td>\n",
       "      <td>636</td>\n",
       "    </tr>\n",
       "    <tr>\n",
       "      <th>34229986</th>\n",
       "      <td>2116927</td>\n",
       "      <td>0</td>\n",
       "      <td>1.496631e+09</td>\n",
       "      <td>636</td>\n",
       "    </tr>\n",
       "  </tbody>\n",
       "</table>\n",
       "<p>34229987 rows × 4 columns</p>\n",
       "</div>"
      ],
      "text/plain": [
       "          Activity  Type     Timestamp  Coding\n",
       "0          1564059     0  1.493590e+09    1233\n",
       "1          1564059     0  1.493590e+09    1233\n",
       "2          1564059     0  1.493590e+09    1233\n",
       "3          1564059     0  1.493590e+09    1233\n",
       "4          1564059     0  1.493590e+09    1233\n",
       "...            ...   ...           ...     ...\n",
       "34229982   2116927     0  1.496631e+09     636\n",
       "34229983   2116927     0  1.496631e+09     636\n",
       "34229984   2116927     0  1.496631e+09     636\n",
       "34229985   2116927     0  1.496631e+09     636\n",
       "34229986   2116927     0  1.496631e+09     636\n",
       "\n",
       "[34229987 rows x 4 columns]"
      ]
     },
     "execution_count": 5,
     "metadata": {},
     "output_type": "execute_result"
    }
   ],
   "source": [
    "li = []\n",
    "\n",
    "aggregate_files = files[2:4]\n",
    "\n",
    "print(aggregate_files)\n",
    "\n",
    "for filename in aggregate_files:\n",
    "    df = pd.read_csv(datafolder+filename)\n",
    "    li.append(df)\n",
    "\n",
    "ed = pd.concat(li, axis=0, ignore_index=True)\n",
    "\n",
    "ed"
   ]
  },
  {
   "cell_type": "markdown",
   "id": "e855844a",
   "metadata": {},
   "source": [
    "Each record represents a coded location in a trajectory. The features are\n",
    "* `Activity` is a trajectory unique integer, identifying the trip within the database,\n",
    "* `Type` is `0` for pedestrian trips, `1` for cyclists,\n",
    "* `Timestamp` is a Unix timestamp for the coded location,\n",
    "* `Coding` contains the location code.\n",
    "\n",
    "in the following we may refer to the location code as to a character, in the analogy with the outcomes of an information source, as it is defined in information theory.\n",
    "\n",
    "We break the database into `Activity`-indexed dictionaries containing the trajectory and the trajectory length."
   ]
  },
  {
   "cell_type": "code",
   "execution_count": 6,
   "id": "6ae3c61f",
   "metadata": {},
   "outputs": [],
   "source": [
    "e_pedestrian_trips  = {k : trip.to_numpy() for k, trip in ed.groupby(ed.Activity) if trip.Type.iloc[0] == 0}\n",
    "e_bike_trips        = {k : trip.to_numpy() for k, trip in ed.groupby(ed.Activity) if trip.Type.iloc[0] == 1}\n",
    "\n",
    "e_pedestrian_points = np.array([t.shape[0] for t in e_pedestrian_trips.values()])\n",
    "e_bike_points       = np.array([t.shape[0] for t in e_bike_trips.values()])"
   ]
  },
  {
   "cell_type": "markdown",
   "id": "31813dd8",
   "metadata": {},
   "source": [
    "Building a histogram of the trip lenghts we observe that there are no trips shorter than 90, as in the pre-existent\n",
    "processing trips shorter than 15 minutes were discarded. Moreover we observe a longer tail for pedestrians, in consequence of the lower speed that they can attain with respect to bicycles, thus leading to a prolonged transit time through each cell."
   ]
  },
  {
   "cell_type": "code",
   "execution_count": 7,
   "id": "2e151e62",
   "metadata": {},
   "outputs": [
    {
     "data": {
      "text/plain": [
       "<matplotlib.legend.Legend at 0x7faa27665f10>"
      ]
     },
     "execution_count": 7,
     "metadata": {},
     "output_type": "execute_result"
    },
    {
     "data": {
      "image/png": "[encoded data removed]",
      "text/plain": [
       "<Figure size 864x576 with 1 Axes>"
      ]
     },
     "metadata": {
      "needs_background": "light"
     },
     "output_type": "display_data"
    }
   ],
   "source": [
    "efig, eax = plt.subplots(figsize = (12,8))\n",
    "plt.hist(e_pedestrian_points, bins = np.linspace(0, 1500, 100), alpha = .5, density = True, \n",
    "         edgecolor='blue', linewidth=1, label = \"Pedestrians\")\n",
    "plt.hist(e_bike_points, bins = np.linspace(0, 1500, 100), alpha = .5, density = True, \n",
    "         edgecolor='red', linewidth=1, label = \"Cyclists\")\n",
    "plt.xlim(left = 90)\n",
    "plt.grid(True)\n",
    "plt.legend(fontsize = 16)"
   ]
  },
  {
   "cell_type": "code",
   "execution_count": 8,
   "id": "c2ecb80b",
   "metadata": {},
   "outputs": [],
   "source": [
    "e_pedestrian_seqs          = {k : trip[:,3] for k, trip in e_pedestrian_trips.items()}\n",
    "e_bike_seqs                = {k : trip[:,3] for k, trip in e_bike_trips.items()}\n",
    "\n",
    "from more_itertools import unique_justseen\n",
    "\n",
    "e_pedestrian_unique_seqs   = {k : np.fromiter(unique_justseen(trip), dtype = int) for k, trip in e_pedestrian_seqs.items()}\n",
    "e_bike_unique_seqs         = {k : np.fromiter(unique_justseen(trip), dtype = int) for k, trip in e_bike_seqs.items()}\n",
    "\n",
    "e_unique_pedestrian_points = np.array([t.shape[0] for t in e_pedestrian_unique_seqs.values()])\n",
    "e_unique_bike_points       = np.array([t.shape[0] for t in e_bike_unique_seqs.values()])"
   ]
  },
  {
   "cell_type": "markdown",
   "id": "c81d4223",
   "metadata": {},
   "source": [
    "To keep only the information about the trajectory geometry we remove character repetitions, by collapsing repeated consecutive characters into a single one, e.g. `AAAAABBBBBBBAACCCCCCB -> ABACB`.\n",
    "\n",
    "In consequence of this we observe that the trajectory length distributions are changed quite radically: while the pedestrians' one is peaked around 10 locations, the cyclists' is peaked around 20."
   ]
  },
  {
   "cell_type": "code",
   "execution_count": 9,
   "id": "45d2d5d8",
   "metadata": {},
   "outputs": [
    {
     "data": {
      "text/plain": [
       "<matplotlib.legend.Legend at 0x7faa26b9acd0>"
      ]
     },
     "execution_count": 9,
     "metadata": {},
     "output_type": "execute_result"
    },
    {
     "data": {
      "image/png": "[encoded data removed]",
      "text/plain": [
       "<Figure size 864x576 with 1 Axes>"
      ]
     },
     "metadata": {
      "needs_background": "light"
     },
     "output_type": "display_data"
    }
   ],
   "source": [
    "e_unique_fig, e_unique_ax  = plt.subplots(figsize = (12,8))\n",
    "\n",
    "plt.hist(e_unique_pedestrian_points, bins = np.linspace(0, 120, 60), density = True, alpha = .5, \n",
    "         edgecolor='blue', linewidth=1., label = \"Pedestrians\")\n",
    "plt.hist(e_unique_bike_points, bins = np.linspace(0, 120, 60), density = True,  alpha = .5, \n",
    "         edgecolor='red', linewidth=1, label = \"Cyclists\")\n",
    "plt.xlim(left = 0)\n",
    "plt.grid(True)\n",
    "plt.legend(fontsize = 16)"
   ]
  },
  {
   "cell_type": "markdown",
   "id": "d8155d55",
   "metadata": {},
   "source": [
    "Due to the higher number of visited locations, we choose to perform our ML experiments on the cyclists.\n",
    "\n",
    "We extract from the trips sequences of `threshold` locations, with an offset of `pred` within each other, when the two are taken from the same trip. The idea is to predict the last `pred` locations, using the remainder of the sequence.\n",
    "\n",
    "Notice that the choice taken here does not automatically propagate to the other parts of the project, but rather sets how many sequences can be obtained from each trip.\n",
    "\n",
    "Notice also that the parts of the projects employing \"jump\" encoding (explained below), only support prediction of the next location, i.e. `pred = 1`."
   ]
  },
  {
   "cell_type": "code",
   "execution_count": 11,
   "id": "f3ac5844",
   "metadata": {},
   "outputs": [
    {
     "data": {
      "text/plain": [
       "(3653, 32951)"
      ]
     },
     "execution_count": 11,
     "metadata": {},
     "output_type": "execute_result"
    }
   ],
   "source": [
    "threshold = 12\n",
    "pred      = 1\n",
    "(sum(e_unique_bike_points < threshold), sum(e_unique_bike_points >= threshold))"
   ]
  },
  {
   "cell_type": "markdown",
   "id": "afe0c748",
   "metadata": {},
   "source": [
    "Discard all trips shorter than `threshold`."
   ]
  },
  {
   "cell_type": "code",
   "execution_count": 12,
   "id": "79e82383",
   "metadata": {},
   "outputs": [],
   "source": [
    "sufficient_bike_seqs = {k : seq for k, seq in e_bike_unique_seqs.items() if len(seq) >= threshold}"
   ]
  },
  {
   "cell_type": "code",
   "execution_count": 13,
   "id": "6a6162cf",
   "metadata": {},
   "outputs": [],
   "source": [
    "processed_bike_seqs = []\n",
    "\n",
    "for seq in sufficient_bike_seqs.values():\n",
    "    n_useful_seqs   = int(np.floor(len(seq) - threshold + 1)/pred)\n",
    "    for i in range(n_useful_seqs):\n",
    "        sseq        = np.roll(seq, -i * pred)[:threshold]\n",
    "        processed_bike_seqs.append(sseq)"
   ]
  },
  {
   "cell_type": "markdown",
   "id": "e950e1bd",
   "metadata": {},
   "source": [
    "This helper function is used to turn each character into a pair of real numbers, akin to bidimensional cartesian coordinates, in the $\\left[-1, 1\\right]^{\\times 2}$ domain. An example of the output of the function is provided.\n",
    "\n",
    "We subsequently scale the coordinates of a factor $10$, effectively moving to the $\\left[-10, 10\\right]^{\\times 2}$ domain."
   ]
  },
  {
   "cell_type": "code",
   "execution_count": 14,
   "id": "586021f4",
   "metadata": {},
   "outputs": [
    {
     "data": {
      "text/plain": [
       "array([[-0.64912281, -0.64912281, -0.64912281, -0.61403509, -0.57894737,\n",
       "        -0.54385965, -0.50877193, -0.47368421, -0.47368421, -0.43859649,\n",
       "        -0.40350877, -0.40350877],\n",
       "       [-0.15      , -0.2       , -0.25      , -0.25      , -0.25      ,\n",
       "        -0.25      , -0.2       , -0.2       , -0.15      , -0.15      ,\n",
       "        -0.15      , -0.1       ]])"
      ]
     },
     "execution_count": 14,
     "metadata": {},
     "output_type": "execute_result"
    }
   ],
   "source": [
    "def to_scaled(n):\n",
    "    return np.array([2 * (n % 57) / 57 -1 , - 2 * (n // 57) / 40 + 1])\n",
    "to_scaled(np.array([it for it in processed_bike_seqs[0]]))"
   ]
  },
  {
   "cell_type": "code",
   "execution_count": 15,
   "id": "0607939c",
   "metadata": {},
   "outputs": [
    {
     "data": {
      "text/plain": [
       "(2, 512882, 12)"
      ]
     },
     "execution_count": 15,
     "metadata": {},
     "output_type": "execute_result"
    }
   ],
   "source": [
    "final_array = np.array(processed_bike_seqs)\n",
    "\n",
    "final_bidimensional = 10 * np.array(to_scaled(final_array))\n",
    "final_bidimensional.shape"
   ]
  },
  {
   "cell_type": "markdown",
   "id": "e9fa4a6c",
   "metadata": {},
   "source": [
    "Save the sequences to file. We save both a version in the original encoding and one in the bidimensional format, flattening the vector."
   ]
  },
  {
   "cell_type": "code",
   "execution_count": 16,
   "id": "8c9b277f",
   "metadata": {},
   "outputs": [],
   "source": [
    "import csv\n",
    "\n",
    "with open(\"../../preproc/september_encoded_bike.csv\", mode=\"w\") as fout:\n",
    "    wr = csv.writer(fout)\n",
    "    for row in final_array:\n",
    "        wr.writerow(row)\n",
    "        \n",
    "with open(\"../../preproc/september_encoded_bike_bidimensional.csv\", mode=\"w\") as fout:\n",
    "    wr = csv.writer(fout)\n",
    "    for row_x, row_y in zip(final_bidimensional[0], final_bidimensional[1]):\n",
    "        wr.writerow(np.concatenate((row_x, row_y)))"
   ]
  },
  {
   "cell_type": "markdown",
   "id": "4df27ea4",
   "metadata": {},
   "source": [
    "Since the data only contain continuous trajectories, we can encode them also by providing the first 11 locations in the bidimensional format and the direction of the last jump as an integer from 0 to 7, indicating the relative position of the last character with respect to the second-to-last, within its *Moore neighbourhood*, i.e. both the sideways and diagonally adjacent.\n",
    "\n",
    "We choose by convention to start from above with 0 and proceed through to 7 in a clockwise fashion."
   ]
  },
  {
   "cell_type": "code",
   "execution_count": 18,
   "id": "e9ddc83c",
   "metadata": {},
   "outputs": [],
   "source": [
    "bd_data = pd.read_csv(\"../../preproc/september_encoded_bike_bidimensional.csv\", header = None).to_numpy()\n",
    "\n",
    "read = 11\n",
    "pred = 12 - read\n",
    "\n",
    "assert pred > 0\n",
    "\n",
    "X = np.concatenate((bd_data[:,:read], bd_data[:,12:12+read]), axis = 1)\n",
    "Y = np.concatenate((bd_data[:,read: 12], bd_data[:,12+read:24]), axis = 1)\n",
    "\n",
    "def xy_to_ij(arr):\n",
    "    if len(arr.shape) == 3: # Array of double arrays\n",
    "        return np.array([xy_to_ij(a) for a in arr])\n",
    "    if len(arr.shape) == 2: # Array of flattened double arrays or double array\n",
    "        if arr.shape[0] >2: # Check this\n",
    "            return np.array([xy_to_ij(a) for a in arr])\n",
    "        prep = arr / 10 \n",
    "        ret = []\n",
    "        for it in prep.T:\n",
    "            ret.append(np.round([57/2*(1+it[0]), -20*(it[1]-1) ]))\n",
    "        return np.array(ret)\n",
    "    if len(arr.shape) == 1: # Flattened array\n",
    "        prep = arr.reshape(2, -1) / 10\n",
    "        ret = []\n",
    "        for it in prep.T:\n",
    "            ret.append(np.round([57/2*(1+it[0]), -20*(it[1]-1) ]))\n",
    "        return np.array(ret)\n",
    "\n",
    "def code_to_ij(arr):\n",
    "    if len(arr.shape) == 2: # Array of arrays\n",
    "        return np.array([code_to_ij(a) for a in arr])\n",
    "    if len(arr.shape) == 1: # Flattened array\n",
    "        ret = []\n",
    "        for code in arr:\n",
    "            ret.append(np.array([code % 57, code // 57]))\n",
    "        return np.array(ret)\n",
    "\n",
    "X_r = X.reshape(X.shape[0],2,-1)\n",
    "Y_r = Y.reshape(Y.shape[0],2,-1)"
   ]
  },
  {
   "cell_type": "code",
   "execution_count": 21,
   "id": "b39913fb",
   "metadata": {},
   "outputs": [
    {
     "data": {
      "text/plain": [
       "((512882, 2, 11), (512882, 2, 1))"
      ]
     },
     "execution_count": 21,
     "metadata": {},
     "output_type": "execute_result"
    }
   ],
   "source": [
    "X_r.shape, Y_r.shape"
   ]
  },
  {
   "cell_type": "markdown",
   "id": "f47a5ad2",
   "metadata": {},
   "source": [
    "This function does the actual encoding, as specified above."
   ]
  },
  {
   "cell_type": "code",
   "execution_count": 30,
   "id": "66686561",
   "metadata": {},
   "outputs": [
    {
     "ename": "KeyboardInterrupt",
     "evalue": "",
     "output_type": "error",
     "traceback": [
      "\u001b[0;31m---------------------------------------------------------------------------\u001b[0m",
      "\u001b[0;31mKeyboardInterrupt\u001b[0m                         Traceback (most recent call last)",
      "\u001b[0;32m/tmp/ipykernel_12534/893613427.py\u001b[0m in \u001b[0;36m<module>\u001b[0;34m\u001b[0m\n\u001b[1;32m     22\u001b[0m \u001b[0;34m\u001b[0m\u001b[0m\n\u001b[1;32m     23\u001b[0m \u001b[0;32mfor\u001b[0m \u001b[0mi\u001b[0m\u001b[0;34m,\u001b[0m \u001b[0mtrj\u001b[0m \u001b[0;32min\u001b[0m \u001b[0menumerate\u001b[0m\u001b[0;34m(\u001b[0m\u001b[0mX_r\u001b[0m\u001b[0;34m)\u001b[0m\u001b[0;34m:\u001b[0m\u001b[0;34m\u001b[0m\u001b[0;34m\u001b[0m\u001b[0m\n\u001b[0;32m---> 24\u001b[0;31m     \u001b[0mfinal\u001b[0m \u001b[0;34m=\u001b[0m \u001b[0mxy_to_ij\u001b[0m\u001b[0;34m(\u001b[0m\u001b[0mtrj\u001b[0m\u001b[0;34m[\u001b[0m\u001b[0;34m:\u001b[0m\u001b[0;34m,\u001b[0m\u001b[0;34m-\u001b[0m\u001b[0;36m2\u001b[0m\u001b[0;34m:\u001b[0m\u001b[0;34m]\u001b[0m\u001b[0;34m)\u001b[0m\u001b[0;34m\u001b[0m\u001b[0;34m\u001b[0m\u001b[0m\n\u001b[0m\u001b[1;32m     25\u001b[0m     \u001b[0;31m#print(final)\u001b[0m\u001b[0;34m\u001b[0m\u001b[0;34m\u001b[0m\u001b[0;34m\u001b[0m\u001b[0m\n\u001b[1;32m     26\u001b[0m     \u001b[0mY_jump\u001b[0m\u001b[0;34m[\u001b[0m\u001b[0mi\u001b[0m\u001b[0;34m]\u001b[0m \u001b[0;34m=\u001b[0m \u001b[0mencode_jump\u001b[0m\u001b[0;34m(\u001b[0m\u001b[0mfinal\u001b[0m\u001b[0;34m[\u001b[0m\u001b[0;36m0\u001b[0m\u001b[0;34m]\u001b[0m\u001b[0;34m,\u001b[0m \u001b[0mfinal\u001b[0m\u001b[0;34m[\u001b[0m\u001b[0;36m1\u001b[0m\u001b[0;34m]\u001b[0m\u001b[0;34m)\u001b[0m\u001b[0;34m\u001b[0m\u001b[0;34m\u001b[0m\u001b[0m\n",
      "\u001b[0;32m/tmp/ipykernel_12534/2230978150.py\u001b[0m in \u001b[0;36mxy_to_ij\u001b[0;34m(arr)\u001b[0m\n\u001b[1;32m     19\u001b[0m         \u001b[0;32mfor\u001b[0m \u001b[0mit\u001b[0m \u001b[0;32min\u001b[0m \u001b[0mprep\u001b[0m\u001b[0;34m.\u001b[0m\u001b[0mT\u001b[0m\u001b[0;34m:\u001b[0m\u001b[0;34m\u001b[0m\u001b[0;34m\u001b[0m\u001b[0m\n\u001b[1;32m     20\u001b[0m             \u001b[0mret\u001b[0m\u001b[0;34m.\u001b[0m\u001b[0mappend\u001b[0m\u001b[0;34m(\u001b[0m\u001b[0mnp\u001b[0m\u001b[0;34m.\u001b[0m\u001b[0mround\u001b[0m\u001b[0;34m(\u001b[0m\u001b[0;34m[\u001b[0m\u001b[0;36m57\u001b[0m\u001b[0;34m/\u001b[0m\u001b[0;36m2\u001b[0m\u001b[0;34m*\u001b[0m\u001b[0;34m(\u001b[0m\u001b[0;36m1\u001b[0m\u001b[0;34m+\u001b[0m\u001b[0mit\u001b[0m\u001b[0;34m[\u001b[0m\u001b[0;36m0\u001b[0m\u001b[0;34m]\u001b[0m\u001b[0;34m)\u001b[0m\u001b[0;34m,\u001b[0m \u001b[0;34m-\u001b[0m\u001b[0;36m20\u001b[0m\u001b[0;34m*\u001b[0m\u001b[0;34m(\u001b[0m\u001b[0mit\u001b[0m\u001b[0;34m[\u001b[0m\u001b[0;36m1\u001b[0m\u001b[0;34m]\u001b[0m\u001b[0;34m-\u001b[0m\u001b[0;36m1\u001b[0m\u001b[0;34m)\u001b[0m \u001b[0;34m]\u001b[0m\u001b[0;34m)\u001b[0m\u001b[0;34m)\u001b[0m\u001b[0;34m\u001b[0m\u001b[0;34m\u001b[0m\u001b[0m\n\u001b[0;32m---> 21\u001b[0;31m         \u001b[0;32mreturn\u001b[0m \u001b[0mnp\u001b[0m\u001b[0;34m.\u001b[0m\u001b[0marray\u001b[0m\u001b[0;34m(\u001b[0m\u001b[0mret\u001b[0m\u001b[0;34m)\u001b[0m\u001b[0;34m\u001b[0m\u001b[0;34m\u001b[0m\u001b[0m\n\u001b[0m\u001b[1;32m     22\u001b[0m     \u001b[0;32mif\u001b[0m \u001b[0mlen\u001b[0m\u001b[0;34m(\u001b[0m\u001b[0marr\u001b[0m\u001b[0;34m.\u001b[0m\u001b[0mshape\u001b[0m\u001b[0;34m)\u001b[0m \u001b[0;34m==\u001b[0m \u001b[0;36m1\u001b[0m\u001b[0;34m:\u001b[0m \u001b[0;31m# Flattened array\u001b[0m\u001b[0;34m\u001b[0m\u001b[0;34m\u001b[0m\u001b[0m\n\u001b[1;32m     23\u001b[0m         \u001b[0mprep\u001b[0m \u001b[0;34m=\u001b[0m \u001b[0marr\u001b[0m\u001b[0;34m.\u001b[0m\u001b[0mreshape\u001b[0m\u001b[0;34m(\u001b[0m\u001b[0;36m2\u001b[0m\u001b[0;34m,\u001b[0m \u001b[0;34m-\u001b[0m\u001b[0;36m1\u001b[0m\u001b[0;34m)\u001b[0m \u001b[0;34m/\u001b[0m \u001b[0;36m10\u001b[0m\u001b[0;34m\u001b[0m\u001b[0;34m\u001b[0m\u001b[0m\n",
      "\u001b[0;31mKeyboardInterrupt\u001b[0m: "
     ]
    }
   ],
   "source": [
    "def encode_jump(first, second):\n",
    "    diff = second-first\n",
    "    #print(diff)\n",
    "    if (diff[0] ==  1. and diff[1] ==  0.):\n",
    "        return 0\n",
    "    if (diff[0] ==  1. and diff[1] ==  1.):\n",
    "        return 1\n",
    "    if (diff[0] ==  0. and diff[1] ==  1.):\n",
    "        return 2\n",
    "    if (diff[0] == -1. and diff[1] ==  1.):\n",
    "        return 3\n",
    "    if (diff[0] == -1. and diff[1] ==  0.):\n",
    "        return 4\n",
    "    if (diff[0] == -1. and diff[1] == -1.):\n",
    "        return 5\n",
    "    if (diff[0] ==  0. and diff[1] == -1.):\n",
    "        return 6\n",
    "    if (diff[0] ==  1. and diff[1] == -1.):\n",
    "        return 7\n",
    "\n",
    "Y_jump = np.full(shape=(X.shape[0]), fill_value=-1)\n",
    "\n",
    "for i, trj in enumerate(X_r):\n",
    "    final = xy_to_ij(trj[:,-2:])\n",
    "    #print(final)\n",
    "    Y_jump[i] = encode_jump(final[0], final[1])\n",
    "    #print(Y_jump[i])"
   ]
  },
  {
   "cell_type": "markdown",
   "id": "ac7ecb8b",
   "metadata": {},
   "source": [
    "We write the data to a csv file, with the first 10 records of each row being the flattened series of bidimensional vectors, and a final integer encoding the jump."
   ]
  },
  {
   "cell_type": "code",
   "execution_count": null,
   "id": "f6656a79",
   "metadata": {},
   "outputs": [],
   "source": [
    "with open(\"./preproc/september_jump_encoded_bike.csv\", mode=\"w\") as fout:\n",
    "    wr = csv.writer(fout)\n",
    "    for row, y in zip(X, Y_jump):\n",
    "        wr.writerow(np.concatenate((row, np.array([y]))))"
   ]
  }
 ],
 "metadata": {
  "kernelspec": {
   "display_name": "Python 3 (ipykernel)",
   "language": "python",
   "name": "python3"
  },
  "language_info": {
   "codemirror_mode": {
    "name": "ipython",
    "version": 3
   },
   "file_extension": ".py",
   "mimetype": "text/x-python",
   "name": "python",
   "nbconvert_exporter": "python",
   "pygments_lexer": "ipython3",
   "version": "3.8.12"
  }
 },
 "nbformat": 4,
 "nbformat_minor": 5
}
