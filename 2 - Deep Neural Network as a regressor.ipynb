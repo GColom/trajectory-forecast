{
 "cells": [
  {
   "cell_type": "markdown",
   "id": "d3c0730f",
   "metadata": {},
   "source": [
    "# Bicycle trajectory forecasting in Bologna\n",
    "\n",
    "## 2 - Deep Neural Network regressor\n",
    "\n",
    "The first attempt at trajectory prediction has been made using a Deep Neural Network, and framing the task as a regression (extrapolation) problem."
   ]
  },
  {
   "cell_type": "code",
   "execution_count": 1,
   "id": "a077c81b",
   "metadata": {},
   "outputs": [],
   "source": [
    "import pandas as pd\n",
    "import numpy as np\n",
    "\n",
    "seed_value = 1789\n",
    "\n",
    "np.random.seed(seed_value)"
   ]
  },
  {
   "cell_type": "markdown",
   "id": "3bc8e052",
   "metadata": {},
   "source": [
    "We load the data and create the data and \"label\" sets containing the extrapolated value. For comparison with the subsequent notebooks, we present here the case where only a single point is predicted, but framing the problem as a regression task it is in principle possible to forecast more than a single point."
   ]
  },
  {
   "cell_type": "code",
   "execution_count": 2,
   "id": "ab9dbcae",
   "metadata": {},
   "outputs": [],
   "source": [
    "bd_data         = pd.read_csv(\"../../preproc/may_encoded_bike_bidimensional.csv\", header = None).to_numpy()\n",
    "indep_test_data = pd.read_csv(\"../../preproc/june_encoded_bike_bidimensional.csv\", header = None).to_numpy()\n",
    "read = 11\n",
    "pred = 12 - read\n",
    "\n",
    "assert pred > 0\n",
    "\n",
    "X    = np.concatenate((bd_data[:,:read]   , bd_data[:,12:12+read]), axis = 1)\n",
    "Y    = np.concatenate((bd_data[:,read: 12], bd_data[:,12+read:24]), axis = 1)\n",
    "\n",
    "X_it = np.concatenate([indep_test_data[:,:read]   , indep_test_data[:,12:12+read]], axis = 1)\n",
    "Y_it = np.concatenate((indep_test_data[:,read: 12], indep_test_data[:,12+read:24]), axis = 1)"
   ]
  },
  {
   "cell_type": "code",
   "execution_count": 3,
   "id": "c7f10584",
   "metadata": {},
   "outputs": [
    {
     "data": {
      "text/plain": [
       "array([-6.49122807, -6.49122807, -6.49122807, -6.14035088, -5.78947368,\n",
       "       -5.43859649, -5.0877193 , -4.73684211, -4.73684211, -4.38596491,\n",
       "       -4.03508772, -1.5       , -2.        , -2.5       , -2.5       ,\n",
       "       -2.5       , -2.5       , -2.        , -2.        , -1.5       ,\n",
       "       -1.5       , -1.5       ])"
      ]
     },
     "execution_count": 3,
     "metadata": {},
     "output_type": "execute_result"
    }
   ],
   "source": [
    "X[0]"
   ]
  },
  {
   "cell_type": "code",
   "execution_count": 4,
   "id": "a67d4f17",
   "metadata": {},
   "outputs": [
    {
     "name": "stderr",
     "output_type": "stream",
     "text": [
      "2022-10-06 17:40:05.829326: I tensorflow/stream_executor/platform/default/dso_loader.cc:49] Successfully opened dynamic library libcudart.so.10.1\n"
     ]
    }
   ],
   "source": [
    "from tensorflow import keras\n",
    "from tensorflow.keras import layers\n",
    "import tensorflow as tf\n",
    "\n",
    "tf.random.set_seed(seed_value)\n",
    "\n",
    "# The following line might need to be uncommented depending on the version of keras and tensorflow\n",
    "#tf.keras.utils.set_random_seed(seed_value)"
   ]
  },
  {
   "cell_type": "markdown",
   "id": "8e4c3162",
   "metadata": {},
   "source": [
    "We define a DNN model with three hidden layers. We choose densely connected layers , ReLU activations and a Glorot initialiser.\n",
    "\n",
    "Due to the discrete nature of the original data, we choose a Mean Absolute Error (MAE) loss function.\n",
    "\n",
    "The present architecture has been chosen after experimenting with different configurations."
   ]
  },
  {
   "cell_type": "code",
   "execution_count": 5,
   "id": "e5e8ecca",
   "metadata": {},
   "outputs": [
    {
     "name": "stderr",
     "output_type": "stream",
     "text": [
      "2022-10-06 17:41:27.382505: I tensorflow/compiler/jit/xla_cpu_device.cc:41] Not creating XLA devices, tf_xla_enable_xla_devices not set\n",
      "2022-10-06 17:41:27.386415: I tensorflow/stream_executor/platform/default/dso_loader.cc:49] Successfully opened dynamic library libcuda.so.1\n",
      "2022-10-06 17:41:27.447130: I tensorflow/stream_executor/cuda/cuda_gpu_executor.cc:941] successful NUMA node read from SysFS had negative value (-1), but there must be at least one NUMA node, so returning NUMA node zero\n",
      "2022-10-06 17:41:27.447512: I tensorflow/core/common_runtime/gpu/gpu_device.cc:1720] Found device 0 with properties: \n",
      "pciBusID: 0000:01:00.0 name: NVIDIA GeForce GTX 1650 computeCapability: 7.5\n",
      "coreClock: 1.56GHz coreCount: 16 deviceMemorySize: 3.82GiB deviceMemoryBandwidth: 119.24GiB/s\n",
      "2022-10-06 17:41:27.447534: I tensorflow/stream_executor/platform/default/dso_loader.cc:49] Successfully opened dynamic library libcudart.so.10.1\n",
      "2022-10-06 17:41:27.482648: I tensorflow/stream_executor/platform/default/dso_loader.cc:49] Successfully opened dynamic library libcublas.so.10\n",
      "2022-10-06 17:41:27.482797: I tensorflow/stream_executor/platform/default/dso_loader.cc:49] Successfully opened dynamic library libcublasLt.so.10\n",
      "2022-10-06 17:41:27.508192: I tensorflow/stream_executor/platform/default/dso_loader.cc:49] Successfully opened dynamic library libcufft.so.10\n",
      "2022-10-06 17:41:27.512926: I tensorflow/stream_executor/platform/default/dso_loader.cc:49] Successfully opened dynamic library libcurand.so.10\n",
      "2022-10-06 17:41:27.546491: I tensorflow/stream_executor/platform/default/dso_loader.cc:49] Successfully opened dynamic library libcusolver.so.10\n",
      "2022-10-06 17:41:27.555075: I tensorflow/stream_executor/platform/default/dso_loader.cc:49] Successfully opened dynamic library libcusparse.so.10\n",
      "2022-10-06 17:41:27.620644: I tensorflow/stream_executor/platform/default/dso_loader.cc:49] Successfully opened dynamic library libcudnn.so.7\n",
      "2022-10-06 17:41:27.621058: I tensorflow/stream_executor/cuda/cuda_gpu_executor.cc:941] successful NUMA node read from SysFS had negative value (-1), but there must be at least one NUMA node, so returning NUMA node zero\n",
      "2022-10-06 17:41:27.622305: I tensorflow/stream_executor/cuda/cuda_gpu_executor.cc:941] successful NUMA node read from SysFS had negative value (-1), but there must be at least one NUMA node, so returning NUMA node zero\n",
      "2022-10-06 17:41:27.623241: I tensorflow/core/common_runtime/gpu/gpu_device.cc:1862] Adding visible gpu devices: 0\n",
      "2022-10-06 17:41:27.624392: I tensorflow/core/platform/cpu_feature_guard.cc:142] This TensorFlow binary is optimized with oneAPI Deep Neural Network Library (oneDNN) to use the following CPU instructions in performance-critical operations:  SSE4.1 SSE4.2 AVX AVX2 FMA\n",
      "To enable them in other operations, rebuild TensorFlow with the appropriate compiler flags.\n",
      "2022-10-06 17:41:27.627171: I tensorflow/compiler/jit/xla_gpu_device.cc:99] Not creating XLA devices, tf_xla_enable_xla_devices not set\n",
      "2022-10-06 17:41:27.627575: I tensorflow/stream_executor/cuda/cuda_gpu_executor.cc:941] successful NUMA node read from SysFS had negative value (-1), but there must be at least one NUMA node, so returning NUMA node zero\n",
      "2022-10-06 17:41:27.628627: I tensorflow/core/common_runtime/gpu/gpu_device.cc:1720] Found device 0 with properties: \n",
      "pciBusID: 0000:01:00.0 name: NVIDIA GeForce GTX 1650 computeCapability: 7.5\n",
      "coreClock: 1.56GHz coreCount: 16 deviceMemorySize: 3.82GiB deviceMemoryBandwidth: 119.24GiB/s\n",
      "2022-10-06 17:41:27.628707: I tensorflow/stream_executor/platform/default/dso_loader.cc:49] Successfully opened dynamic library libcudart.so.10.1\n",
      "2022-10-06 17:41:27.628769: I tensorflow/stream_executor/platform/default/dso_loader.cc:49] Successfully opened dynamic library libcublas.so.10\n",
      "2022-10-06 17:41:27.628849: I tensorflow/stream_executor/platform/default/dso_loader.cc:49] Successfully opened dynamic library libcublasLt.so.10\n",
      "2022-10-06 17:41:27.628926: I tensorflow/stream_executor/platform/default/dso_loader.cc:49] Successfully opened dynamic library libcufft.so.10\n",
      "2022-10-06 17:41:27.628979: I tensorflow/stream_executor/platform/default/dso_loader.cc:49] Successfully opened dynamic library libcurand.so.10\n",
      "2022-10-06 17:41:27.629030: I tensorflow/stream_executor/platform/default/dso_loader.cc:49] Successfully opened dynamic library libcusolver.so.10\n",
      "2022-10-06 17:41:27.629086: I tensorflow/stream_executor/platform/default/dso_loader.cc:49] Successfully opened dynamic library libcusparse.so.10\n",
      "2022-10-06 17:41:27.629138: I tensorflow/stream_executor/platform/default/dso_loader.cc:49] Successfully opened dynamic library libcudnn.so.7\n",
      "2022-10-06 17:41:27.629359: I tensorflow/stream_executor/cuda/cuda_gpu_executor.cc:941] successful NUMA node read from SysFS had negative value (-1), but there must be at least one NUMA node, so returning NUMA node zero\n",
      "2022-10-06 17:41:27.630559: I tensorflow/stream_executor/cuda/cuda_gpu_executor.cc:941] successful NUMA node read from SysFS had negative value (-1), but there must be at least one NUMA node, so returning NUMA node zero\n",
      "2022-10-06 17:41:27.631497: I tensorflow/core/common_runtime/gpu/gpu_device.cc:1862] Adding visible gpu devices: 0\n",
      "2022-10-06 17:41:27.632008: I tensorflow/stream_executor/platform/default/dso_loader.cc:49] Successfully opened dynamic library libcudart.so.10.1\n",
      "2022-10-06 17:41:28.466199: I tensorflow/core/common_runtime/gpu/gpu_device.cc:1261] Device interconnect StreamExecutor with strength 1 edge matrix:\n",
      "2022-10-06 17:41:28.466221: I tensorflow/core/common_runtime/gpu/gpu_device.cc:1267]      0 \n",
      "2022-10-06 17:41:28.466226: I tensorflow/core/common_runtime/gpu/gpu_device.cc:1280] 0:   N \n",
      "2022-10-06 17:41:28.466630: I tensorflow/stream_executor/cuda/cuda_gpu_executor.cc:941] successful NUMA node read from SysFS had negative value (-1), but there must be at least one NUMA node, so returning NUMA node zero\n",
      "2022-10-06 17:41:28.466912: I tensorflow/stream_executor/cuda/cuda_gpu_executor.cc:941] successful NUMA node read from SysFS had negative value (-1), but there must be at least one NUMA node, so returning NUMA node zero\n",
      "2022-10-06 17:41:28.467157: I tensorflow/stream_executor/cuda/cuda_gpu_executor.cc:941] successful NUMA node read from SysFS had negative value (-1), but there must be at least one NUMA node, so returning NUMA node zero\n",
      "2022-10-06 17:41:28.467379: I tensorflow/core/common_runtime/gpu/gpu_device.cc:1406] Created TensorFlow device (/job:localhost/replica:0/task:0/device:GPU:0 with 2983 MB memory) -> physical GPU (device: 0, name: NVIDIA GeForce GTX 1650, pci bus id: 0000:01:00.0, compute capability: 7.5)\n"
     ]
    }
   ],
   "source": [
    "model = keras.Sequential()\n",
    "model.add(layers.Dense( 64, kernel_initializer='glorot_normal', activation='relu', input_shape=(2*read,)))\n",
    "model.add(layers.Dense(128, kernel_initializer='glorot_normal', activation='relu'))\n",
    "model.add(layers.Dense( 64, kernel_initializer='glorot_normal', activation='relu'))\n",
    "model.add(layers.Dense(2*pred))\n",
    "\n",
    "loss_function = 'mae'\n",
    "adam = tf.keras.optimizers.Adam(learning_rate=0.001)\n",
    "model.compile(loss=loss_function, optimizer=adam,metrics=['mse'])"
   ]
  },
  {
   "cell_type": "code",
   "execution_count": 6,
   "id": "a6eb0004",
   "metadata": {},
   "outputs": [
    {
     "name": "stdout",
     "output_type": "stream",
     "text": [
      "Model: \"sequential\"\n",
      "_________________________________________________________________\n",
      "Layer (type)                 Output Shape              Param #   \n",
      "=================================================================\n",
      "dense (Dense)                (None, 64)                1472      \n",
      "_________________________________________________________________\n",
      "dense_1 (Dense)              (None, 128)               8320      \n",
      "_________________________________________________________________\n",
      "dense_2 (Dense)              (None, 64)                8256      \n",
      "_________________________________________________________________\n",
      "dense_3 (Dense)              (None, 2)                 130       \n",
      "=================================================================\n",
      "Total params: 18,178\n",
      "Trainable params: 18,178\n",
      "Non-trainable params: 0\n",
      "_________________________________________________________________\n"
     ]
    }
   ],
   "source": [
    "model.summary()"
   ]
  },
  {
   "cell_type": "markdown",
   "id": "8081d763",
   "metadata": {},
   "source": [
    "Perform a train-test split of the May data. Then fit for 40 epochs."
   ]
  },
  {
   "cell_type": "code",
   "execution_count": 7,
   "id": "a830be58",
   "metadata": {},
   "outputs": [],
   "source": [
    "from sklearn.model_selection import train_test_split\n",
    "\n",
    "X_train, X_val, Y_train, Y_val = train_test_split(X, Y, train_size=.70)"
   ]
  },
  {
   "cell_type": "code",
   "execution_count": 8,
   "id": "8e3def89",
   "metadata": {},
   "outputs": [
    {
     "name": "stderr",
     "output_type": "stream",
     "text": [
      "2022-10-06 17:41:51.527151: I tensorflow/compiler/mlir/mlir_graph_optimization_pass.cc:116] None of the MLIR optimization passes are enabled (registered 2)\n",
      "2022-10-06 17:41:51.550071: I tensorflow/core/platform/profile_utils/cpu_utils.cc:112] CPU Frequency: 2599990000 Hz\n"
     ]
    },
    {
     "name": "stdout",
     "output_type": "stream",
     "text": [
      "Epoch 1/40\n"
     ]
    },
    {
     "name": "stderr",
     "output_type": "stream",
     "text": [
      "2022-10-06 17:41:51.798405: I tensorflow/stream_executor/platform/default/dso_loader.cc:49] Successfully opened dynamic library libcublas.so.10\n"
     ]
    },
    {
     "name": "stdout",
     "output_type": "stream",
     "text": [
      "3591/3591 [==============================] - 7s 2ms/step - loss: 0.2924 - mse: 0.2920 - val_loss: 0.2243 - val_mse: 0.0852\n",
      "Epoch 2/40\n",
      "3591/3591 [==============================] - 6s 2ms/step - loss: 0.2115 - mse: 0.0747 - val_loss: 0.2137 - val_mse: 0.0761\n",
      "Epoch 3/40\n",
      "3591/3591 [==============================] - 6s 2ms/step - loss: 0.2050 - mse: 0.0715 - val_loss: 0.2044 - val_mse: 0.0731\n",
      "Epoch 4/40\n",
      "3591/3591 [==============================] - 6s 2ms/step - loss: 0.1991 - mse: 0.0689 - val_loss: 0.1997 - val_mse: 0.0697\n",
      "Epoch 5/40\n",
      "3591/3591 [==============================] - 6s 2ms/step - loss: 0.1958 - mse: 0.0677 - val_loss: 0.1945 - val_mse: 0.0692\n",
      "Epoch 6/40\n",
      "3591/3591 [==============================] - 6s 2ms/step - loss: 0.1919 - mse: 0.0661 - val_loss: 0.1894 - val_mse: 0.0655\n",
      "Epoch 7/40\n",
      "3591/3591 [==============================] - 6s 2ms/step - loss: 0.1888 - mse: 0.0650 - val_loss: 0.1880 - val_mse: 0.0643\n",
      "Epoch 8/40\n",
      "3591/3591 [==============================] - 6s 2ms/step - loss: 0.1861 - mse: 0.0640 - val_loss: 0.1809 - val_mse: 0.0618\n",
      "Epoch 9/40\n",
      "3591/3591 [==============================] - 6s 2ms/step - loss: 0.1838 - mse: 0.0633 - val_loss: 0.1787 - val_mse: 0.0610\n",
      "Epoch 10/40\n",
      "3591/3591 [==============================] - 6s 2ms/step - loss: 0.1830 - mse: 0.0632 - val_loss: 0.1873 - val_mse: 0.0649\n",
      "Epoch 11/40\n",
      "3591/3591 [==============================] - 6s 2ms/step - loss: 0.1815 - mse: 0.0625 - val_loss: 0.1790 - val_mse: 0.0612\n",
      "Epoch 12/40\n",
      "3591/3591 [==============================] - 6s 2ms/step - loss: 0.1794 - mse: 0.0619 - val_loss: 0.1838 - val_mse: 0.0637\n",
      "Epoch 13/40\n",
      "3591/3591 [==============================] - 6s 2ms/step - loss: 0.1785 - mse: 0.0615 - val_loss: 0.1837 - val_mse: 0.0656\n",
      "Epoch 14/40\n",
      "3591/3591 [==============================] - 6s 2ms/step - loss: 0.1769 - mse: 0.0611 - val_loss: 0.1775 - val_mse: 0.0627\n",
      "Epoch 15/40\n",
      "3591/3591 [==============================] - 6s 2ms/step - loss: 0.1766 - mse: 0.0611 - val_loss: 0.1742 - val_mse: 0.0593\n",
      "Epoch 16/40\n",
      "3591/3591 [==============================] - 6s 2ms/step - loss: 0.1752 - mse: 0.0607 - val_loss: 0.1734 - val_mse: 0.0600\n",
      "Epoch 17/40\n",
      "3591/3591 [==============================] - 6s 2ms/step - loss: 0.1746 - mse: 0.0606 - val_loss: 0.1753 - val_mse: 0.0602\n",
      "Epoch 18/40\n",
      "3591/3591 [==============================] - 6s 2ms/step - loss: 0.1736 - mse: 0.0601 - val_loss: 0.1762 - val_mse: 0.0607\n",
      "Epoch 19/40\n",
      "3591/3591 [==============================] - 6s 2ms/step - loss: 0.1726 - mse: 0.0598 - val_loss: 0.1784 - val_mse: 0.0628\n",
      "Epoch 20/40\n",
      "3591/3591 [==============================] - 6s 2ms/step - loss: 0.1725 - mse: 0.0599 - val_loss: 0.1823 - val_mse: 0.0655\n",
      "Epoch 21/40\n",
      "3591/3591 [==============================] - 6s 2ms/step - loss: 0.1718 - mse: 0.0595 - val_loss: 0.1700 - val_mse: 0.0585\n",
      "Epoch 22/40\n",
      "3591/3591 [==============================] - 6s 2ms/step - loss: 0.1719 - mse: 0.0597 - val_loss: 0.1717 - val_mse: 0.0594\n",
      "Epoch 23/40\n",
      "3591/3591 [==============================] - 6s 2ms/step - loss: 0.1706 - mse: 0.0592 - val_loss: 0.1730 - val_mse: 0.0608\n",
      "Epoch 24/40\n",
      "3591/3591 [==============================] - 6s 2ms/step - loss: 0.1698 - mse: 0.0589 - val_loss: 0.1723 - val_mse: 0.0603\n",
      "Epoch 25/40\n",
      "3591/3591 [==============================] - 6s 2ms/step - loss: 0.1693 - mse: 0.0588 - val_loss: 0.1754 - val_mse: 0.0613\n",
      "Epoch 26/40\n",
      "3591/3591 [==============================] - 7s 2ms/step - loss: 0.1695 - mse: 0.0589 - val_loss: 0.1681 - val_mse: 0.0591\n",
      "Epoch 27/40\n",
      "3591/3591 [==============================] - 7s 2ms/step - loss: 0.1683 - mse: 0.0586 - val_loss: 0.1690 - val_mse: 0.0584\n",
      "Epoch 28/40\n",
      "3591/3591 [==============================] - 6s 2ms/step - loss: 0.1678 - mse: 0.0583 - val_loss: 0.1679 - val_mse: 0.0586\n",
      "Epoch 29/40\n",
      "3591/3591 [==============================] - 6s 2ms/step - loss: 0.1675 - mse: 0.0582 - val_loss: 0.1713 - val_mse: 0.0603\n",
      "Epoch 30/40\n",
      "3591/3591 [==============================] - 6s 2ms/step - loss: 0.1679 - mse: 0.0584 - val_loss: 0.1674 - val_mse: 0.0582\n",
      "Epoch 31/40\n",
      "3591/3591 [==============================] - 8s 2ms/step - loss: 0.1671 - mse: 0.0580 - val_loss: 0.1655 - val_mse: 0.0575\n",
      "Epoch 32/40\n",
      "3591/3591 [==============================] - 7s 2ms/step - loss: 0.1665 - mse: 0.0579 - val_loss: 0.1657 - val_mse: 0.0571\n",
      "Epoch 33/40\n",
      "3591/3591 [==============================] - 7s 2ms/step - loss: 0.1662 - mse: 0.0577 - val_loss: 0.1691 - val_mse: 0.0589\n",
      "Epoch 34/40\n",
      "3591/3591 [==============================] - 8s 2ms/step - loss: 0.1657 - mse: 0.0576 - val_loss: 0.1683 - val_mse: 0.0586\n",
      "Epoch 35/40\n",
      "3591/3591 [==============================] - 8s 2ms/step - loss: 0.1655 - mse: 0.0576 - val_loss: 0.1704 - val_mse: 0.0594\n",
      "Epoch 36/40\n",
      "3591/3591 [==============================] - 8s 2ms/step - loss: 0.1651 - mse: 0.0574 - val_loss: 0.1664 - val_mse: 0.0574\n",
      "Epoch 37/40\n",
      "3591/3591 [==============================] - 8s 2ms/step - loss: 0.1649 - mse: 0.0574 - val_loss: 0.1657 - val_mse: 0.0581\n",
      "Epoch 38/40\n",
      "3591/3591 [==============================] - 8s 2ms/step - loss: 0.1653 - mse: 0.0576 - val_loss: 0.1761 - val_mse: 0.0621\n",
      "Epoch 39/40\n",
      "3591/3591 [==============================] - 7s 2ms/step - loss: 0.1644 - mse: 0.0571 - val_loss: 0.1632 - val_mse: 0.0574\n",
      "Epoch 40/40\n",
      "3591/3591 [==============================] - 7s 2ms/step - loss: 0.1643 - mse: 0.0572 - val_loss: 0.1656 - val_mse: 0.0583\n"
     ]
    }
   ],
   "source": [
    "history = model.fit(X_train, Y_train, epochs= 40,batch_size=100, validation_data=(X_val, Y_val))"
   ]
  },
  {
   "cell_type": "code",
   "execution_count": 9,
   "id": "21e02310",
   "metadata": {},
   "outputs": [
    {
     "data": {
      "image/png": "[encoded data removed]",
      "text/plain": [
       "<Figure size 864x576 with 1 Axes>"
      ]
     },
     "metadata": {
      "needs_background": "light"
     },
     "output_type": "display_data"
    }
   ],
   "source": [
    "import matplotlib.pyplot as plt\n",
    "\n",
    "f, a = plt.subplots(figsize=(12,8))\n",
    "\n",
    "a.plot(history.history['loss'], label = \"Training Loss\")\n",
    "a.plot(history.history['val_loss'], label = \"Validation Loss\")\n",
    "plt.legend()\n",
    "plt.grid(True)"
   ]
  },
  {
   "cell_type": "markdown",
   "id": "967f2fe7",
   "metadata": {},
   "source": [
    "Due to the discrete nature of the original data, it would be best to measure the performance of the algorithm with some kind of accuracy measure.\n",
    "\n",
    "To this end, we need to map the predicted and true values back to discrete $(i,j)$ coordinates."
   ]
  },
  {
   "cell_type": "code",
   "execution_count": 10,
   "id": "555238e4",
   "metadata": {},
   "outputs": [],
   "source": [
    "p_xy = model.predict(X_val)"
   ]
  },
  {
   "cell_type": "code",
   "execution_count": 12,
   "id": "14bf9cf0",
   "metadata": {},
   "outputs": [],
   "source": [
    "t_xy = Y_val"
   ]
  },
  {
   "cell_type": "markdown",
   "id": "2666e56c",
   "metadata": {},
   "source": [
    "Here we introduce a utility function that maps an array of bidimensional coordinates back to $(i,j)$ pairs, and apply it right-away to the predictions."
   ]
  },
  {
   "cell_type": "code",
   "execution_count": 13,
   "id": "3a8915c8",
   "metadata": {},
   "outputs": [],
   "source": [
    "def to_ij(arr):\n",
    "    prepared = arr.reshape(2,-1).T /10\n",
    "    res = np.array([])\n",
    "    for it in prepared:\n",
    "        res = np.append(res, np.round([57/2*(1+it[0]), -20*(it[1]-1) ]))\n",
    "    return res\n",
    "p_ijs = np.array([to_ij(p) for p in p_xy])"
   ]
  },
  {
   "cell_type": "markdown",
   "id": "3a7f2bf9",
   "metadata": {},
   "source": [
    "And analogously we do for the true values."
   ]
  },
  {
   "cell_type": "code",
   "execution_count": 14,
   "id": "bbea38f8",
   "metadata": {},
   "outputs": [],
   "source": [
    "t_ijs = np.array([to_ij(t) for t in t_xy])"
   ]
  },
  {
   "cell_type": "markdown",
   "id": "3cb22266",
   "metadata": {},
   "source": [
    "Now we evaluate the accuracy of prediction, with an auxiliary function `eval_acc()` which returns in order\n",
    "1. The fraction of trajectories for which all predicted points are correct,\n",
    "2. The fraction of trajectories for which only the first predicted point is correct.\n",
    "\n",
    "By construction the two values coincide when we predict a single future step."
   ]
  },
  {
   "cell_type": "code",
   "execution_count": 15,
   "id": "c63aea4f",
   "metadata": {},
   "outputs": [
    {
     "data": {
      "text/plain": [
       "array([0.53890748, 0.53890748])"
      ]
     },
     "execution_count": 15,
     "metadata": {},
     "output_type": "execute_result"
    }
   ],
   "source": [
    "def eval_acc(p, t, size = pred):\n",
    "    l_p = p.shape[0]\n",
    "    l_t = t.shape[0]\n",
    "    assert l_p == l_t, \"Test and prediction size do not match!\"\n",
    "    all_correct   = 0.\n",
    "    first_correct = 0.\n",
    "    for r_p, r_t in zip(p,t):\n",
    "        #print(r_p, r_t)\n",
    "        if (r_p == r_t).all():\n",
    "            all_correct += 1\n",
    "        if (r_p[:2] == r_t[:2]).all():\n",
    "            first_correct +=1\n",
    "    return np.array([all_correct, first_correct])/l_p\n",
    "\n",
    "eval_acc(p_ijs, t_ijs)"
   ]
  },
  {
   "cell_type": "markdown",
   "id": "50014085",
   "metadata": {},
   "source": [
    "We see that this kind of network can attain an accuracy of $\\approx 55 \\%$, which is better than the value we would obtain in a random guess within the Moore neighbourhood of each cell, which yields $12.5 \\%$.\n",
    "\n",
    "We proceed to test the accuracy on an independent dataset, containing the June trajectory, which the network has not seen so far."
   ]
  },
  {
   "cell_type": "code",
   "execution_count": 16,
   "id": "ca040173",
   "metadata": {},
   "outputs": [
    {
     "data": {
      "text/plain": [
       "array([0.53234901, 0.53234901])"
      ]
     },
     "execution_count": 16,
     "metadata": {},
     "output_type": "execute_result"
    }
   ],
   "source": [
    "indep_test_p_xy = model.predict(X_it)\n",
    "indep_test_t_xy = Y_it\n",
    "indep_test_p_ijs = np.array([to_ij(p) for p in indep_test_p_xy])\n",
    "indep_test_t_ijs = np.array([to_ij(t) for t in indep_test_t_xy])\n",
    "eval_acc(indep_test_p_ijs, indep_test_t_ijs)"
   ]
  }
 ],
 "metadata": {
  "kernelspec": {
   "display_name": "Python 3 (ipykernel)",
   "language": "python",
   "name": "python3"
  },
  "language_info": {
   "codemirror_mode": {
    "name": "ipython",
    "version": 3
   },
   "file_extension": ".py",
   "mimetype": "text/x-python",
   "name": "python",
   "nbconvert_exporter": "python",
   "pygments_lexer": "ipython3",
   "version": "3.8.12"
  }
 },
 "nbformat": 4,
 "nbformat_minor": 5
}
