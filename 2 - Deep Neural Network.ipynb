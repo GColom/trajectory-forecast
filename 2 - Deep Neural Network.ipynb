{
 "cells": [
  {
   "cell_type": "markdown",
   "id": "d3c0730f",
   "metadata": {},
   "source": [
    "# Bicycle trajectory forecasting in Bologna\n",
    "\n",
    "## 2 - Deep Neural Network\n",
    "\n",
    "The first attempt at trajectory prediction has been made using a Deep Neural Network, and framing the task as a regression (extrapolation) problem."
   ]
  },
  {
   "cell_type": "code",
   "execution_count": 1,
   "id": "a077c81b",
   "metadata": {},
   "outputs": [],
   "source": [
    "import pandas as pd\n",
    "import numpy as np\n",
    "\n",
    "seed_value = 1789\n",
    "\n",
    "np.random.seed(seed_value)"
   ]
  },
  {
   "cell_type": "markdown",
   "id": "3bc8e052",
   "metadata": {},
   "source": [
    "We load the data and create the data and \"label\" sets containing the extrapolated value. For comparison with the subsequent notebooks, we present here the case where only a single point is predicted, but framing the problem as a regression task it is in principle possible to forecast more than a single point."
   ]
  },
  {
   "cell_type": "code",
   "execution_count": 2,
   "id": "ab9dbcae",
   "metadata": {},
   "outputs": [],
   "source": [
    "bd_data = pd.read_csv(\"../../preproc/may_encoded_bike_bidimensional.csv\", header = None).to_numpy()\n",
    "\n",
    "read = 11\n",
    "pred = 12 - read\n",
    "\n",
    "assert pred > 0\n",
    "\n",
    "X = np.concatenate((bd_data[:,:read], bd_data[:,12:12+read]), axis = 1)\n",
    "Y = np.concatenate((bd_data[:,read: 12], bd_data[:,12+read:24]), axis = 1)"
   ]
  },
  {
   "cell_type": "code",
   "execution_count": 3,
   "id": "c7f10584",
   "metadata": {},
   "outputs": [
    {
     "data": {
      "text/plain": [
       "array([-6.49122807, -6.49122807, -6.49122807, -6.14035088, -5.78947368,\n",
       "       -5.43859649, -5.0877193 , -4.73684211, -4.73684211, -4.38596491,\n",
       "       -4.03508772, -1.5       , -2.        , -2.5       , -2.5       ,\n",
       "       -2.5       , -2.5       , -2.        , -2.        , -1.5       ,\n",
       "       -1.5       , -1.5       ])"
      ]
     },
     "execution_count": 3,
     "metadata": {},
     "output_type": "execute_result"
    }
   ],
   "source": [
    "X[0]"
   ]
  },
  {
   "cell_type": "code",
   "execution_count": 15,
   "id": "a67d4f17",
   "metadata": {},
   "outputs": [],
   "source": [
    "from tensorflow import keras\n",
    "from tensorflow.keras import layers\n",
    "import tensorflow as tf\n",
    "\n",
    "tf.random.set_seed(seed_value)\n",
    "\n",
    "# The following line might need to be uncommented depending on the version of keras and tensorflow\n",
    "#tf.keras.utils.set_random_seed(seed_value)"
   ]
  },
  {
   "cell_type": "markdown",
   "id": "8e4c3162",
   "metadata": {},
   "source": [
    "We define a DNN model with three hidden layers. We choose densely connected layers , ReLU activations and a Glorot initialiser.\n",
    "\n",
    "Due to the discrete nature of the original data, we choose a Mean Average Error (MAE) loss function.\n",
    "\n",
    "The present architecture has been chosen after experimenting with different configurations."
   ]
  },
  {
   "cell_type": "code",
   "execution_count": 16,
   "id": "e5e8ecca",
   "metadata": {},
   "outputs": [],
   "source": [
    "model = keras.Sequential()\n",
    "model.add(layers.Dense( 64, kernel_initializer='glorot_normal', activation='relu', input_shape=(2*read,)))\n",
    "model.add(layers.Dense(128, kernel_initializer='glorot_normal', activation='relu'))\n",
    "model.add(layers.Dense( 64, kernel_initializer='glorot_normal', activation='relu'))\n",
    "model.add(layers.Dense(2*pred))\n",
    "\n",
    "loss_function = 'mae'\n",
    "adam = tf.keras.optimizers.Adam(learning_rate=0.001)\n",
    "model.compile(loss=loss_function, optimizer=adam,metrics=['mse'])"
   ]
  },
  {
   "cell_type": "code",
   "execution_count": 6,
   "id": "a6eb0004",
   "metadata": {},
   "outputs": [
    {
     "name": "stdout",
     "output_type": "stream",
     "text": [
      "Model: \"sequential\"\n",
      "_________________________________________________________________\n",
      "Layer (type)                 Output Shape              Param #   \n",
      "=================================================================\n",
      "dense (Dense)                (None, 64)                1472      \n",
      "_________________________________________________________________\n",
      "dense_1 (Dense)              (None, 128)               8320      \n",
      "_________________________________________________________________\n",
      "dense_2 (Dense)              (None, 64)                8256      \n",
      "_________________________________________________________________\n",
      "dense_3 (Dense)              (None, 2)                 130       \n",
      "=================================================================\n",
      "Total params: 18,178\n",
      "Trainable params: 18,178\n",
      "Non-trainable params: 0\n",
      "_________________________________________________________________\n"
     ]
    }
   ],
   "source": [
    "model.summary()"
   ]
  },
  {
   "cell_type": "markdown",
   "id": "8081d763",
   "metadata": {},
   "source": [
    "Perform a train-test split of the May data. Then fit for 40 epochs."
   ]
  },
  {
   "cell_type": "code",
   "execution_count": 7,
   "id": "a830be58",
   "metadata": {},
   "outputs": [],
   "source": [
    "from sklearn.model_selection import train_test_split\n",
    "\n",
    "X_train, X_test, Y_train, Y_test = train_test_split(X, Y, train_size=.70)"
   ]
  },
  {
   "cell_type": "code",
   "execution_count": 17,
   "id": "8e3def89",
   "metadata": {},
   "outputs": [
    {
     "name": "stdout",
     "output_type": "stream",
     "text": [
      "Epoch 1/40\n",
      "3591/3591 [==============================] - 6s 2ms/step - loss: 0.2923 - mse: 0.2919 - val_loss: 0.2240 - val_mse: 0.0858\n",
      "Epoch 2/40\n",
      "3591/3591 [==============================] - 6s 2ms/step - loss: 0.2118 - mse: 0.0748 - val_loss: 0.2049 - val_mse: 0.0707\n",
      "Epoch 3/40\n",
      "3591/3591 [==============================] - 6s 2ms/step - loss: 0.2053 - mse: 0.0715 - val_loss: 0.2033 - val_mse: 0.0706\n",
      "Epoch 4/40\n",
      "3591/3591 [==============================] - 6s 2ms/step - loss: 0.1997 - mse: 0.0692 - val_loss: 0.1958 - val_mse: 0.0673\n",
      "Epoch 5/40\n",
      "3591/3591 [==============================] - 6s 2ms/step - loss: 0.1966 - mse: 0.0680 - val_loss: 0.1955 - val_mse: 0.0683\n",
      "Epoch 6/40\n",
      "3591/3591 [==============================] - 6s 2ms/step - loss: 0.1927 - mse: 0.0663 - val_loss: 0.1846 - val_mse: 0.0627\n",
      "Epoch 7/40\n",
      "3591/3591 [==============================] - 6s 2ms/step - loss: 0.1891 - mse: 0.0650 - val_loss: 0.1838 - val_mse: 0.0627\n",
      "Epoch 8/40\n",
      "3591/3591 [==============================] - 6s 2ms/step - loss: 0.1865 - mse: 0.0639 - val_loss: 0.1830 - val_mse: 0.0625\n",
      "Epoch 9/40\n",
      "3591/3591 [==============================] - 6s 2ms/step - loss: 0.1843 - mse: 0.0634 - val_loss: 0.1838 - val_mse: 0.0627\n",
      "Epoch 10/40\n",
      "3591/3591 [==============================] - 5s 2ms/step - loss: 0.1828 - mse: 0.0628 - val_loss: 0.1944 - val_mse: 0.0680\n",
      "Epoch 11/40\n",
      "3591/3591 [==============================] - 5s 2ms/step - loss: 0.1817 - mse: 0.0625 - val_loss: 0.1803 - val_mse: 0.0627\n",
      "Epoch 12/40\n",
      "3591/3591 [==============================] - 5s 2ms/step - loss: 0.1797 - mse: 0.0618 - val_loss: 0.1817 - val_mse: 0.0620\n",
      "Epoch 13/40\n",
      "3591/3591 [==============================] - 6s 2ms/step - loss: 0.1778 - mse: 0.0611 - val_loss: 0.1796 - val_mse: 0.0622\n",
      "Epoch 14/40\n",
      "3591/3591 [==============================] - 5s 2ms/step - loss: 0.1764 - mse: 0.0607 - val_loss: 0.1810 - val_mse: 0.0638\n",
      "Epoch 15/40\n",
      "3591/3591 [==============================] - 6s 2ms/step - loss: 0.1764 - mse: 0.0609 - val_loss: 0.1765 - val_mse: 0.0606\n",
      "Epoch 16/40\n",
      "3591/3591 [==============================] - 6s 2ms/step - loss: 0.1742 - mse: 0.0602 - val_loss: 0.1760 - val_mse: 0.0618\n",
      "Epoch 17/40\n",
      "3591/3591 [==============================] - 5s 2ms/step - loss: 0.1744 - mse: 0.0604 - val_loss: 0.1828 - val_mse: 0.0638\n",
      "Epoch 18/40\n",
      "3591/3591 [==============================] - 5s 2ms/step - loss: 0.1735 - mse: 0.0599 - val_loss: 0.1794 - val_mse: 0.0620\n",
      "Epoch 19/40\n",
      "3591/3591 [==============================] - 5s 2ms/step - loss: 0.1721 - mse: 0.0594 - val_loss: 0.1741 - val_mse: 0.0608\n",
      "Epoch 20/40\n",
      "3591/3591 [==============================] - 5s 2ms/step - loss: 0.1710 - mse: 0.0593 - val_loss: 0.1681 - val_mse: 0.0586\n",
      "Epoch 21/40\n",
      "3591/3591 [==============================] - 5s 2ms/step - loss: 0.1709 - mse: 0.0591 - val_loss: 0.1717 - val_mse: 0.0598\n",
      "Epoch 22/40\n",
      "3591/3591 [==============================] - 6s 2ms/step - loss: 0.1706 - mse: 0.0591 - val_loss: 0.1703 - val_mse: 0.0589\n",
      "Epoch 23/40\n",
      "3591/3591 [==============================] - 6s 2ms/step - loss: 0.1691 - mse: 0.0585 - val_loss: 0.1688 - val_mse: 0.0585\n",
      "Epoch 24/40\n",
      "3591/3591 [==============================] - 5s 2ms/step - loss: 0.1683 - mse: 0.0583 - val_loss: 0.1719 - val_mse: 0.0608\n",
      "Epoch 25/40\n",
      "3591/3591 [==============================] - 6s 2ms/step - loss: 0.1686 - mse: 0.0584 - val_loss: 0.1704 - val_mse: 0.0601\n",
      "Epoch 26/40\n",
      "3591/3591 [==============================] - 6s 2ms/step - loss: 0.1680 - mse: 0.0581 - val_loss: 0.1669 - val_mse: 0.0580\n",
      "Epoch 27/40\n",
      "3591/3591 [==============================] - 6s 2ms/step - loss: 0.1669 - mse: 0.0580 - val_loss: 0.1670 - val_mse: 0.0581\n",
      "Epoch 28/40\n",
      "3591/3591 [==============================] - 6s 2ms/step - loss: 0.1670 - mse: 0.0579 - val_loss: 0.1669 - val_mse: 0.0578\n",
      "Epoch 29/40\n",
      "3591/3591 [==============================] - 6s 2ms/step - loss: 0.1667 - mse: 0.0578 - val_loss: 0.1649 - val_mse: 0.0570\n",
      "Epoch 30/40\n",
      "3591/3591 [==============================] - 6s 2ms/step - loss: 0.1662 - mse: 0.0577 - val_loss: 0.1667 - val_mse: 0.0579\n",
      "Epoch 31/40\n",
      "3591/3591 [==============================] - 6s 2ms/step - loss: 0.1656 - mse: 0.0574 - val_loss: 0.1680 - val_mse: 0.0585\n",
      "Epoch 32/40\n",
      "3591/3591 [==============================] - 6s 2ms/step - loss: 0.1651 - mse: 0.0574 - val_loss: 0.1649 - val_mse: 0.0571\n",
      "Epoch 33/40\n",
      "3591/3591 [==============================] - 6s 2ms/step - loss: 0.1648 - mse: 0.0572 - val_loss: 0.1676 - val_mse: 0.0586\n",
      "Epoch 34/40\n",
      "3591/3591 [==============================] - 6s 2ms/step - loss: 0.1648 - mse: 0.0572 - val_loss: 0.1626 - val_mse: 0.0574\n",
      "Epoch 35/40\n",
      "3591/3591 [==============================] - 6s 2ms/step - loss: 0.1640 - mse: 0.0571 - val_loss: 0.1685 - val_mse: 0.0587\n",
      "Epoch 36/40\n",
      "3591/3591 [==============================] - 6s 2ms/step - loss: 0.1638 - mse: 0.0569 - val_loss: 0.1634 - val_mse: 0.0569\n",
      "Epoch 37/40\n",
      "3591/3591 [==============================] - 6s 2ms/step - loss: 0.1635 - mse: 0.0568 - val_loss: 0.1637 - val_mse: 0.0572\n",
      "Epoch 38/40\n",
      "3591/3591 [==============================] - 6s 2ms/step - loss: 0.1641 - mse: 0.0572 - val_loss: 0.1773 - val_mse: 0.0634\n",
      "Epoch 39/40\n",
      "3591/3591 [==============================] - 6s 2ms/step - loss: 0.1628 - mse: 0.0566 - val_loss: 0.1611 - val_mse: 0.0564\n",
      "Epoch 40/40\n",
      "3591/3591 [==============================] - 6s 2ms/step - loss: 0.1629 - mse: 0.0567 - val_loss: 0.1626 - val_mse: 0.0567\n"
     ]
    }
   ],
   "source": [
    "history = model.fit(X_train, Y_train, epochs= 40,batch_size=100, validation_data=(X_test, Y_test))"
   ]
  },
  {
   "cell_type": "code",
   "execution_count": 18,
   "id": "21e02310",
   "metadata": {},
   "outputs": [
    {
     "data": {
      "image/png": "[encoded data removed]",
      "text/plain": [
       "<Figure size 864x576 with 1 Axes>"
      ]
     },
     "metadata": {
      "needs_background": "light"
     },
     "output_type": "display_data"
    }
   ],
   "source": [
    "import matplotlib.pyplot as plt\n",
    "\n",
    "f, a = plt.subplots(figsize=(12,8))\n",
    "\n",
    "a.plot(history.history['loss'], label = \"Training Loss\")\n",
    "a.plot(history.history['val_loss'], label = \"Validation Loss\")\n",
    "plt.legend()\n",
    "plt.grid(True)"
   ]
  },
  {
   "cell_type": "markdown",
   "id": "967f2fe7",
   "metadata": {},
   "source": [
    "Due to the discrete nature of the original data, it would be best to measure the performance of the algorithm with some kind of accuracy measure.\n",
    "\n",
    "To this end, we need to map the predicted and true values back to discrete $(i,j)$ coordinates."
   ]
  },
  {
   "cell_type": "code",
   "execution_count": 19,
   "id": "555238e4",
   "metadata": {},
   "outputs": [],
   "source": [
    "p_xy = model.predict(X_test)"
   ]
  },
  {
   "cell_type": "code",
   "execution_count": 20,
   "id": "14bf9cf0",
   "metadata": {},
   "outputs": [],
   "source": [
    "t_xy = Y_test"
   ]
  },
  {
   "cell_type": "markdown",
   "id": "2666e56c",
   "metadata": {},
   "source": [
    "Here we introduce a utility function that maps an array of bidimensional coordinates back to $(i,j)$ pairs, and apply it right-away to the predictions."
   ]
  },
  {
   "cell_type": "code",
   "execution_count": 21,
   "id": "3a8915c8",
   "metadata": {},
   "outputs": [],
   "source": [
    "def to_ij(arr):\n",
    "    prepared = arr.reshape(2,-1).T /10\n",
    "    res = np.array([])\n",
    "    for it in prepared:\n",
    "        res = np.append(res, np.round([57/2*(1+it[0]), -20*(it[1]-1) ]))\n",
    "    return res\n",
    "p_ijs = np.array([to_ij(p) for p in p_xy])"
   ]
  },
  {
   "cell_type": "markdown",
   "id": "3a7f2bf9",
   "metadata": {},
   "source": [
    "And analogously we do for the true values."
   ]
  },
  {
   "cell_type": "code",
   "execution_count": 22,
   "id": "bbea38f8",
   "metadata": {},
   "outputs": [],
   "source": [
    "t_ijs = np.array([to_ij(t) for t in t_xy])"
   ]
  },
  {
   "cell_type": "markdown",
   "id": "3cb22266",
   "metadata": {},
   "source": [
    "Now we evaluate the accuracy of prediction, with an auxiliary function `eval_acc()` which returns in order\n",
    "1. The fraction of trajectories for which all predicted points are correct,\n",
    "2. The fraction of trajectories for which only the first predicted point is correct.\n",
    "\n",
    "By construction the two values coincide when we predict a single future step."
   ]
  },
  {
   "cell_type": "code",
   "execution_count": 23,
   "id": "c63aea4f",
   "metadata": {},
   "outputs": [
    {
     "data": {
      "text/plain": [
       "array([0.55121698, 0.55121698])"
      ]
     },
     "execution_count": 23,
     "metadata": {},
     "output_type": "execute_result"
    }
   ],
   "source": [
    "def eval_acc(p, t, size = pred):\n",
    "    l_p = p.shape[0]\n",
    "    l_t = t.shape[0]\n",
    "    assert l_p == l_t, \"Test and prediction size do not match!\"\n",
    "    all_correct   = 0.\n",
    "    first_correct = 0.\n",
    "    for r_p, r_t in zip(p,t):\n",
    "        #print(r_p, r_t)\n",
    "        if (r_p == r_t).all():\n",
    "            all_correct += 1\n",
    "        if (r_p[:2] == r_t[:2]).all():\n",
    "            first_correct +=1\n",
    "    return np.array([all_correct, first_correct])/l_p\n",
    "\n",
    "eval_acc(p_ijs, t_ijs)"
   ]
  },
  {
   "cell_type": "markdown",
   "id": "50014085",
   "metadata": {},
   "source": [
    "We see that this kind of network can attain an accuracy of $\\approx 55 \\%$, which is better than the value we would obtain in a random guess within the Moore neighbourhood of each cell, which yields $12.5 \\%$."
   ]
  }
 ],
 "metadata": {
  "kernelspec": {
   "display_name": "Python 3 (ipykernel)",
   "language": "python",
   "name": "python3"
  },
  "language_info": {
   "codemirror_mode": {
    "name": "ipython",
    "version": 3
   },
   "file_extension": ".py",
   "mimetype": "text/x-python",
   "name": "python",
   "nbconvert_exporter": "python",
   "pygments_lexer": "ipython3",
   "version": "3.8.12"
  }
 },
 "nbformat": 4,
 "nbformat_minor": 5
}
